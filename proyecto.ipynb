{
 "cells": [
  {
   "cell_type": "code",
   "execution_count": 2,
   "id": "256694ce",
   "metadata": {},
   "outputs": [],
   "source": [
    "#librerias\n",
    "import numpy as np\n",
    "import pandas as pd\n",
    "import geopandas as gpd\n",
    "import matplotlib.pyplot as plt\n",
    "import seaborn"
   ]
  },
  {
   "cell_type": "code",
   "execution_count": null,
   "id": "05360c42",
   "metadata": {},
   "outputs": [],
   "source": []
  },
  {
   "cell_type": "code",
   "execution_count": 7,
   "id": "b28a9622",
   "metadata": {},
   "outputs": [
    {
     "name": "stderr",
     "output_type": "stream",
     "text": [
      "C:\\Users\\ibgar\\AppData\\Local\\Temp\\ipykernel_14876\\1693834776.py:1: DtypeWarning: Columns (25) have mixed types. Specify dtype option on import or set low_memory=False.\n",
      "  df_rendimiento = pd.read_csv('Dataframes/20220302_Rendimiento_2021_20220131_WEB.csv', sep = ';',  decimal=\",\")\n"
     ]
    }
   ],
   "source": [
    "df_rendimiento = pd.read_csv('Dataframes/20220302_Rendimiento_2021_20220131_WEB.csv', sep = ';',  decimal=\",\")"
   ]
  },
  {
   "cell_type": "code",
   "execution_count": 17,
   "id": "f5b3444d",
   "metadata": {},
   "outputs": [],
   "source": [
    "df_rendimiento = df_rendimiento[df_rendimiento['EDAD_ALU'] != ' ']\n",
    "df_rendimiento['EDAD_ALU'] = df_rendimiento['EDAD_ALU'].astype(int)\n",
    "df_rendimiento_rm = df_rendimiento[df_rendimiento.COD_REG_RBD == 13]\n",
    "df_rendimiento_rm = df_rendimiento_rm.loc[(df_rendimiento.EDAD_ALU == 18) & (df_rendimiento.EDAD_ALU == 17)]\n",
    "#df_rendimiento_rm['PROM_GRAL'].unique()\n",
    "df_rendimiento_rm_promedio = df_rendimiento_rm.groupby('NOM_COM_RBD').mean().reset_index()\n",
    "df_rendimiento_rm_promedio\n",
    "df_rendimiento_rm_promedio = df_rendimiento_rm_promedio[['COD_COM_RBD','COD_DEPE2' ,'PROM_GRAL', 'ASISTENCIA']].to_csv('Dataframes/rendimiento_filtrado_2021.csv',index = False)\n"
   ]
  },
  {
   "cell_type": "code",
   "execution_count": 38,
   "id": "f76bbc2a",
   "metadata": {},
   "outputs": [
    {
     "data": {
      "text/html": [
       "<div>\n",
       "<style scoped>\n",
       "    .dataframe tbody tr th:only-of-type {\n",
       "        vertical-align: middle;\n",
       "    }\n",
       "\n",
       "    .dataframe tbody tr th {\n",
       "        vertical-align: top;\n",
       "    }\n",
       "\n",
       "    .dataframe thead th {\n",
       "        text-align: right;\n",
       "    }\n",
       "</style>\n",
       "<table border=\"1\" class=\"dataframe\">\n",
       "  <thead>\n",
       "    <tr style=\"text-align: right;\">\n",
       "      <th></th>\n",
       "      <th>COD_COM_RBD</th>\n",
       "      <th>NOM_COM_RBD</th>\n",
       "    </tr>\n",
       "  </thead>\n",
       "  <tbody>\n",
       "    <tr>\n",
       "      <th>0</th>\n",
       "      <td>15101</td>\n",
       "      <td>ARICA</td>\n",
       "    </tr>\n",
       "    <tr>\n",
       "      <th>1</th>\n",
       "      <td>15101</td>\n",
       "      <td>ARICA</td>\n",
       "    </tr>\n",
       "    <tr>\n",
       "      <th>2</th>\n",
       "      <td>15101</td>\n",
       "      <td>ARICA</td>\n",
       "    </tr>\n",
       "    <tr>\n",
       "      <th>3</th>\n",
       "      <td>15101</td>\n",
       "      <td>ARICA</td>\n",
       "    </tr>\n",
       "    <tr>\n",
       "      <th>4</th>\n",
       "      <td>15101</td>\n",
       "      <td>ARICA</td>\n",
       "    </tr>\n",
       "    <tr>\n",
       "      <th>...</th>\n",
       "      <td>...</td>\n",
       "      <td>...</td>\n",
       "    </tr>\n",
       "    <tr>\n",
       "      <th>3237038</th>\n",
       "      <td>8301</td>\n",
       "      <td>LOS ÁNGELES</td>\n",
       "    </tr>\n",
       "    <tr>\n",
       "      <th>3237039</th>\n",
       "      <td>8301</td>\n",
       "      <td>LOS ÁNGELES</td>\n",
       "    </tr>\n",
       "    <tr>\n",
       "      <th>3237040</th>\n",
       "      <td>8301</td>\n",
       "      <td>LOS ÁNGELES</td>\n",
       "    </tr>\n",
       "    <tr>\n",
       "      <th>3237041</th>\n",
       "      <td>8301</td>\n",
       "      <td>LOS ÁNGELES</td>\n",
       "    </tr>\n",
       "    <tr>\n",
       "      <th>3237042</th>\n",
       "      <td>8301</td>\n",
       "      <td>LOS ÁNGELES</td>\n",
       "    </tr>\n",
       "  </tbody>\n",
       "</table>\n",
       "<p>3237043 rows × 2 columns</p>\n",
       "</div>"
      ],
      "text/plain": [
       "         COD_COM_RBD  NOM_COM_RBD\n",
       "0              15101        ARICA\n",
       "1              15101        ARICA\n",
       "2              15101        ARICA\n",
       "3              15101        ARICA\n",
       "4              15101        ARICA\n",
       "...              ...          ...\n",
       "3237038         8301  LOS ÁNGELES\n",
       "3237039         8301  LOS ÁNGELES\n",
       "3237040         8301  LOS ÁNGELES\n",
       "3237041         8301  LOS ÁNGELES\n",
       "3237042         8301  LOS ÁNGELES\n",
       "\n",
       "[3237043 rows x 2 columns]"
      ]
     },
     "execution_count": 38,
     "metadata": {},
     "output_type": "execute_result"
    }
   ],
   "source": [
    "df_comunas = df_rendimiento[['COD_COM_RBD','NOM_COM_RBD']]\n",
    "df_comunas"
   ]
  },
  {
   "cell_type": "code",
   "execution_count": null,
   "id": "8cbe7784",
   "metadata": {},
   "outputs": [],
   "source": []
  }
 ],
 "metadata": {
  "kernelspec": {
   "display_name": "Python 3 (ipykernel)",
   "language": "python",
   "name": "python3"
  },
  "language_info": {
   "codemirror_mode": {
    "name": "ipython",
    "version": 3
   },
   "file_extension": ".py",
   "mimetype": "text/x-python",
   "name": "python",
   "nbconvert_exporter": "python",
   "pygments_lexer": "ipython3",
   "version": "3.10.7"
  }
 },
 "nbformat": 4,
 "nbformat_minor": 5
}
