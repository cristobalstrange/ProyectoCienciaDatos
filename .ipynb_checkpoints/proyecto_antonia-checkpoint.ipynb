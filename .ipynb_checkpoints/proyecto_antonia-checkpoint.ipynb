{
 "cells": [
  {
   "cell_type": "code",
   "execution_count": 1,
   "id": "ab15cea3",
   "metadata": {},
   "outputs": [],
   "source": [
    "import pandas as pd\n",
    "import seaborn as sns\n",
    "from matplotlib import pyplot as plt\n",
    "import seaborn as sns"
   ]
  },
  {
   "cell_type": "code",
   "execution_count": 2,
   "id": "7e7b1914",
   "metadata": {
    "scrolled": true
   },
   "outputs": [
    {
     "data": {
      "text/plain": [
       "Index(['Año', 'Cód. Institución', 'Nombre Institución', 'Tipo Institución',\n",
       "       'Clasificación1', 'Clasificación2', 'Clasificación3', 'Clasificación4',\n",
       "       'Clasificación5', 'Clasificación6', 'Nombre de la Sede',\n",
       "       'Comuna donde se imparte la carrera o programa', 'Nombre Region',\n",
       "       'Orden Geográfico de la Región (Norte aSur)', 'Cód. Carrera',\n",
       "       'Carrera Genérica', 'Nombre Programa', 'Mención o Especialidad',\n",
       "       'Horario', 'Tipo Programa', 'Area Conocimiento', 'idgenerocarrera',\n",
       "       'Tipo Carrera', 'IngresoDirecto', 'Año Inicio Actividades',\n",
       "       'Nombre del Campus', 'Duración (en semestres)', 'Cód. Campus',\n",
       "       'Cód. Sede', 'Título', 'Grado Académico',\n",
       "       'Máximo Puntaje (promedio matemáticas y lenguaje)',\n",
       "       'Promedio Puntaje (promedio matemáticas y lenguaje)',\n",
       "       'Mínimo Puntaje (promedio matemáticas y lenguaje)',\n",
       "       'Puntaje de corte (primer seleccionado)',\n",
       "       'Puntaje de corte (promedio de la carrera)',\n",
       "       'Puntaje de corte (último seleccionado)', 'Máximo Puntaje NEM',\n",
       "       'Promedio Puntaje NEM', 'Mínimo Puntaje NEM', 'Máximo Puntaje Ranking',\n",
       "       'Promedio Puntaje Ranking', 'Mínimo Puntaje Ranking',\n",
       "       'Nº Alumnos Ingreso Via PSU o PDT', 'Nº Alumnos Ingreso Otra Via',\n",
       "       'Valor de matrícula', 'Valor de arancel', 'Valor del Título',\n",
       "       'Tipo Moneda', 'Vacantes', 'Matrícula primer año hombres',\n",
       "       'Matrícula primer año mujeres', 'Matrícula primer año extranjeros',\n",
       "       'Matrícula Primer Año', 'Matrícula total hombres',\n",
       "       'Matrícula total mujeres', 'Matrícula total extranjeros',\n",
       "       'Matrícula Total', 'Códgo SIES', 'Pregrado/Posgrado'],\n",
       "      dtype='object')"
      ]
     },
     "execution_count": 2,
     "metadata": {},
     "output_type": "execute_result"
    }
   ],
   "source": [
    "df_carreras = pd.read_excel('Dataframes/basedefinitivaindices_2005-2022.xlsx')\n",
    "df_carreras.columns"
   ]
  },
  {
   "cell_type": "code",
   "execution_count": 3,
   "id": "d3655abf",
   "metadata": {},
   "outputs": [
    {
     "data": {
      "text/plain": [
       "array(['Univ.', 'I.P.', 'C.F.T.', 'F.F.A.A.'], dtype=object)"
      ]
     },
     "execution_count": 3,
     "metadata": {},
     "output_type": "execute_result"
    }
   ],
   "source": [
    "df_carreras['Tipo Institución'].unique()"
   ]
  },
  {
   "cell_type": "code",
   "execution_count": 4,
   "id": "03848f03",
   "metadata": {},
   "outputs": [],
   "source": [
    "df_col_filtradas = df_carreras[['Año','Nombre Institución','Nombre Region','Tipo Institución','Promedio Puntaje (promedio matemáticas y lenguaje)','Promedio Puntaje NEM','Promedio Puntaje Ranking']]"
   ]
  },
  {
   "cell_type": "code",
   "execution_count": 5,
   "id": "40f8ac8b",
   "metadata": {},
   "outputs": [
    {
     "data": {
      "text/html": [
       "<div>\n",
       "<style scoped>\n",
       "    .dataframe tbody tr th:only-of-type {\n",
       "        vertical-align: middle;\n",
       "    }\n",
       "\n",
       "    .dataframe tbody tr th {\n",
       "        vertical-align: top;\n",
       "    }\n",
       "\n",
       "    .dataframe thead th {\n",
       "        text-align: right;\n",
       "    }\n",
       "</style>\n",
       "<table border=\"1\" class=\"dataframe\">\n",
       "  <thead>\n",
       "    <tr style=\"text-align: right;\">\n",
       "      <th></th>\n",
       "      <th>Año</th>\n",
       "      <th>Nombre Institución</th>\n",
       "      <th>Nombre Region</th>\n",
       "      <th>Tipo Institución</th>\n",
       "      <th>Promedio Puntaje (promedio matemáticas y lenguaje)</th>\n",
       "      <th>Promedio Puntaje NEM</th>\n",
       "      <th>Promedio Puntaje Ranking</th>\n",
       "    </tr>\n",
       "  </thead>\n",
       "  <tbody>\n",
       "    <tr>\n",
       "      <th>0</th>\n",
       "      <td>2022</td>\n",
       "      <td>U. DE CHILE</td>\n",
       "      <td>Región Metropolitana</td>\n",
       "      <td>Univ.</td>\n",
       "      <td>599.0</td>\n",
       "      <td>696.0</td>\n",
       "      <td>733.0</td>\n",
       "    </tr>\n",
       "    <tr>\n",
       "      <th>1</th>\n",
       "      <td>2022</td>\n",
       "      <td>U. DE CHILE</td>\n",
       "      <td>Región Metropolitana</td>\n",
       "      <td>Univ.</td>\n",
       "      <td>630.0</td>\n",
       "      <td>739.0</td>\n",
       "      <td>785.0</td>\n",
       "    </tr>\n",
       "    <tr>\n",
       "      <th>2</th>\n",
       "      <td>2022</td>\n",
       "      <td>U. DE CHILE</td>\n",
       "      <td>Región Metropolitana</td>\n",
       "      <td>Univ.</td>\n",
       "      <td>682.0</td>\n",
       "      <td>749.0</td>\n",
       "      <td>773.0</td>\n",
       "    </tr>\n",
       "    <tr>\n",
       "      <th>3</th>\n",
       "      <td>2022</td>\n",
       "      <td>U. DE CHILE</td>\n",
       "      <td>Región Metropolitana</td>\n",
       "      <td>Univ.</td>\n",
       "      <td>637.0</td>\n",
       "      <td>726.0</td>\n",
       "      <td>766.0</td>\n",
       "    </tr>\n",
       "    <tr>\n",
       "      <th>4</th>\n",
       "      <td>2022</td>\n",
       "      <td>U. DE CHILE</td>\n",
       "      <td>Región Metropolitana</td>\n",
       "      <td>Univ.</td>\n",
       "      <td>597.0</td>\n",
       "      <td>697.0</td>\n",
       "      <td>732.0</td>\n",
       "    </tr>\n",
       "  </tbody>\n",
       "</table>\n",
       "</div>"
      ],
      "text/plain": [
       "    Año Nombre Institución         Nombre Region Tipo Institución  \\\n",
       "0  2022        U. DE CHILE  Región Metropolitana            Univ.   \n",
       "1  2022        U. DE CHILE  Región Metropolitana            Univ.   \n",
       "2  2022        U. DE CHILE  Región Metropolitana            Univ.   \n",
       "3  2022        U. DE CHILE  Región Metropolitana            Univ.   \n",
       "4  2022        U. DE CHILE  Región Metropolitana            Univ.   \n",
       "\n",
       "   Promedio Puntaje (promedio matemáticas y lenguaje)  Promedio Puntaje NEM  \\\n",
       "0                                              599.0                  696.0   \n",
       "1                                              630.0                  739.0   \n",
       "2                                              682.0                  749.0   \n",
       "3                                              637.0                  726.0   \n",
       "4                                              597.0                  697.0   \n",
       "\n",
       "   Promedio Puntaje Ranking  \n",
       "0                     733.0  \n",
       "1                     785.0  \n",
       "2                     773.0  \n",
       "3                     766.0  \n",
       "4                     732.0  "
      ]
     },
     "execution_count": 5,
     "metadata": {},
     "output_type": "execute_result"
    }
   ],
   "source": [
    "df_col_filtradas.head()"
   ]
  },
  {
   "cell_type": "code",
   "execution_count": 6,
   "id": "5c02cbee",
   "metadata": {},
   "outputs": [
    {
     "data": {
      "text/html": [
       "<div>\n",
       "<style scoped>\n",
       "    .dataframe tbody tr th:only-of-type {\n",
       "        vertical-align: middle;\n",
       "    }\n",
       "\n",
       "    .dataframe tbody tr th {\n",
       "        vertical-align: top;\n",
       "    }\n",
       "\n",
       "    .dataframe thead th {\n",
       "        text-align: right;\n",
       "    }\n",
       "</style>\n",
       "<table border=\"1\" class=\"dataframe\">\n",
       "  <thead>\n",
       "    <tr style=\"text-align: right;\">\n",
       "      <th></th>\n",
       "      <th>Año</th>\n",
       "      <th>Nombre Institución</th>\n",
       "      <th>Nombre Region</th>\n",
       "      <th>Tipo Institución</th>\n",
       "      <th>Promedio Puntaje (promedio matemáticas y lenguaje)</th>\n",
       "      <th>Promedio Puntaje NEM</th>\n",
       "      <th>Promedio Puntaje Ranking</th>\n",
       "    </tr>\n",
       "  </thead>\n",
       "  <tbody>\n",
       "    <tr>\n",
       "      <th>0</th>\n",
       "      <td>2022</td>\n",
       "      <td>U. DE CHILE</td>\n",
       "      <td>Región Metropolitana</td>\n",
       "      <td>Univ.</td>\n",
       "      <td>599.0</td>\n",
       "      <td>696.0</td>\n",
       "      <td>733.0</td>\n",
       "    </tr>\n",
       "    <tr>\n",
       "      <th>1</th>\n",
       "      <td>2022</td>\n",
       "      <td>U. DE CHILE</td>\n",
       "      <td>Región Metropolitana</td>\n",
       "      <td>Univ.</td>\n",
       "      <td>630.0</td>\n",
       "      <td>739.0</td>\n",
       "      <td>785.0</td>\n",
       "    </tr>\n",
       "    <tr>\n",
       "      <th>2</th>\n",
       "      <td>2022</td>\n",
       "      <td>U. DE CHILE</td>\n",
       "      <td>Región Metropolitana</td>\n",
       "      <td>Univ.</td>\n",
       "      <td>682.0</td>\n",
       "      <td>749.0</td>\n",
       "      <td>773.0</td>\n",
       "    </tr>\n",
       "    <tr>\n",
       "      <th>3</th>\n",
       "      <td>2022</td>\n",
       "      <td>U. DE CHILE</td>\n",
       "      <td>Región Metropolitana</td>\n",
       "      <td>Univ.</td>\n",
       "      <td>637.0</td>\n",
       "      <td>726.0</td>\n",
       "      <td>766.0</td>\n",
       "    </tr>\n",
       "    <tr>\n",
       "      <th>4</th>\n",
       "      <td>2022</td>\n",
       "      <td>U. DE CHILE</td>\n",
       "      <td>Región Metropolitana</td>\n",
       "      <td>Univ.</td>\n",
       "      <td>597.0</td>\n",
       "      <td>697.0</td>\n",
       "      <td>732.0</td>\n",
       "    </tr>\n",
       "  </tbody>\n",
       "</table>\n",
       "</div>"
      ],
      "text/plain": [
       "    Año Nombre Institución         Nombre Region Tipo Institución  \\\n",
       "0  2022        U. DE CHILE  Región Metropolitana            Univ.   \n",
       "1  2022        U. DE CHILE  Región Metropolitana            Univ.   \n",
       "2  2022        U. DE CHILE  Región Metropolitana            Univ.   \n",
       "3  2022        U. DE CHILE  Región Metropolitana            Univ.   \n",
       "4  2022        U. DE CHILE  Región Metropolitana            Univ.   \n",
       "\n",
       "   Promedio Puntaje (promedio matemáticas y lenguaje)  Promedio Puntaje NEM  \\\n",
       "0                                              599.0                  696.0   \n",
       "1                                              630.0                  739.0   \n",
       "2                                              682.0                  749.0   \n",
       "3                                              637.0                  726.0   \n",
       "4                                              597.0                  697.0   \n",
       "\n",
       "   Promedio Puntaje Ranking  \n",
       "0                     733.0  \n",
       "1                     785.0  \n",
       "2                     773.0  \n",
       "3                     766.0  \n",
       "4                     732.0  "
      ]
     },
     "execution_count": 6,
     "metadata": {},
     "output_type": "execute_result"
    }
   ],
   "source": [
    "df_col_filtradas = df_col_filtradas[df_col_filtradas['Nombre Region']=='Región Metropolitana'].reset_index(drop=True)\n",
    "df_col_filtradas.head()"
   ]
  },
  {
   "cell_type": "code",
   "execution_count": 7,
   "id": "6ffaab7d",
   "metadata": {},
   "outputs": [
    {
     "data": {
      "text/plain": [
       "Año                                                       0\n",
       "Nombre Institución                                        0\n",
       "Nombre Region                                             0\n",
       "Tipo Institución                                          0\n",
       "Promedio Puntaje (promedio matemáticas y lenguaje)    68951\n",
       "Promedio Puntaje NEM                                  76337\n",
       "Promedio Puntaje Ranking                              76857\n",
       "dtype: int64"
      ]
     },
     "execution_count": 7,
     "metadata": {},
     "output_type": "execute_result"
    }
   ],
   "source": [
    "df_col_filtradas.isna().sum()"
   ]
  },
  {
   "cell_type": "code",
   "execution_count": 8,
   "id": "4cc2bed5",
   "metadata": {},
   "outputs": [],
   "source": [
    "promedio_institucion = df_col_filtradas.groupby(by='Tipo Institución',as_index=False).mean()"
   ]
  },
  {
   "cell_type": "code",
   "execution_count": 9,
   "id": "0b947c5c",
   "metadata": {},
   "outputs": [
    {
     "data": {
      "text/html": [
       "<div>\n",
       "<style scoped>\n",
       "    .dataframe tbody tr th:only-of-type {\n",
       "        vertical-align: middle;\n",
       "    }\n",
       "\n",
       "    .dataframe tbody tr th {\n",
       "        vertical-align: top;\n",
       "    }\n",
       "\n",
       "    .dataframe thead th {\n",
       "        text-align: right;\n",
       "    }\n",
       "</style>\n",
       "<table border=\"1\" class=\"dataframe\">\n",
       "  <thead>\n",
       "    <tr style=\"text-align: right;\">\n",
       "      <th></th>\n",
       "      <th>Tipo Institución</th>\n",
       "      <th>Año</th>\n",
       "      <th>Promedio Puntaje (promedio matemáticas y lenguaje)</th>\n",
       "      <th>Promedio Puntaje NEM</th>\n",
       "      <th>Promedio Puntaje Ranking</th>\n",
       "    </tr>\n",
       "  </thead>\n",
       "  <tbody>\n",
       "    <tr>\n",
       "      <th>0</th>\n",
       "      <td>C.F.T.</td>\n",
       "      <td>2013.365381</td>\n",
       "      <td>464.544000</td>\n",
       "      <td>505.000000</td>\n",
       "      <td>478.000000</td>\n",
       "    </tr>\n",
       "    <tr>\n",
       "      <th>1</th>\n",
       "      <td>F.F.A.A.</td>\n",
       "      <td>2012.524675</td>\n",
       "      <td>579.578947</td>\n",
       "      <td>587.965517</td>\n",
       "      <td>601.045455</td>\n",
       "    </tr>\n",
       "    <tr>\n",
       "      <th>2</th>\n",
       "      <td>I.P.</td>\n",
       "      <td>2015.085732</td>\n",
       "      <td>458.729290</td>\n",
       "      <td>506.473684</td>\n",
       "      <td>493.727273</td>\n",
       "    </tr>\n",
       "    <tr>\n",
       "      <th>3</th>\n",
       "      <td>Univ.</td>\n",
       "      <td>2014.094611</td>\n",
       "      <td>565.539431</td>\n",
       "      <td>583.689485</td>\n",
       "      <td>613.634250</td>\n",
       "    </tr>\n",
       "  </tbody>\n",
       "</table>\n",
       "</div>"
      ],
      "text/plain": [
       "  Tipo Institución          Año  \\\n",
       "0           C.F.T.  2013.365381   \n",
       "1         F.F.A.A.  2012.524675   \n",
       "2             I.P.  2015.085732   \n",
       "3            Univ.  2014.094611   \n",
       "\n",
       "   Promedio Puntaje (promedio matemáticas y lenguaje)  Promedio Puntaje NEM  \\\n",
       "0                                         464.544000             505.000000   \n",
       "1                                         579.578947             587.965517   \n",
       "2                                         458.729290             506.473684   \n",
       "3                                         565.539431             583.689485   \n",
       "\n",
       "   Promedio Puntaje Ranking  \n",
       "0                478.000000  \n",
       "1                601.045455  \n",
       "2                493.727273  \n",
       "3                613.634250  "
      ]
     },
     "execution_count": 9,
     "metadata": {},
     "output_type": "execute_result"
    }
   ],
   "source": [
    "promedio_institucion"
   ]
  },
  {
   "cell_type": "code",
   "execution_count": 11,
   "id": "942d1c89",
   "metadata": {},
   "outputs": [
    {
     "data": {
      "text/html": [
       "<div>\n",
       "<style scoped>\n",
       "    .dataframe tbody tr th:only-of-type {\n",
       "        vertical-align: middle;\n",
       "    }\n",
       "\n",
       "    .dataframe tbody tr th {\n",
       "        vertical-align: top;\n",
       "    }\n",
       "\n",
       "    .dataframe thead th {\n",
       "        text-align: right;\n",
       "    }\n",
       "</style>\n",
       "<table border=\"1\" class=\"dataframe\">\n",
       "  <thead>\n",
       "    <tr style=\"text-align: right;\">\n",
       "      <th></th>\n",
       "      <th>Tipo Institución</th>\n",
       "      <th>Año</th>\n",
       "      <th>Promedio Puntaje (promedio matemáticas y lenguaje)</th>\n",
       "      <th>Promedio Puntaje NEM</th>\n",
       "      <th>Promedio Puntaje Ranking</th>\n",
       "    </tr>\n",
       "  </thead>\n",
       "  <tbody>\n",
       "    <tr>\n",
       "      <th>0</th>\n",
       "      <td>C.F.T.</td>\n",
       "      <td>2013.0</td>\n",
       "      <td>450.0</td>\n",
       "      <td>505.0</td>\n",
       "      <td>478.0</td>\n",
       "    </tr>\n",
       "    <tr>\n",
       "      <th>1</th>\n",
       "      <td>F.F.A.A.</td>\n",
       "      <td>2012.0</td>\n",
       "      <td>583.5</td>\n",
       "      <td>577.0</td>\n",
       "      <td>592.5</td>\n",
       "    </tr>\n",
       "    <tr>\n",
       "      <th>2</th>\n",
       "      <td>I.P.</td>\n",
       "      <td>2016.0</td>\n",
       "      <td>451.0</td>\n",
       "      <td>519.0</td>\n",
       "      <td>500.0</td>\n",
       "    </tr>\n",
       "    <tr>\n",
       "      <th>3</th>\n",
       "      <td>Univ.</td>\n",
       "      <td>2014.0</td>\n",
       "      <td>559.0</td>\n",
       "      <td>566.0</td>\n",
       "      <td>591.0</td>\n",
       "    </tr>\n",
       "  </tbody>\n",
       "</table>\n",
       "</div>"
      ],
      "text/plain": [
       "  Tipo Institución     Año  \\\n",
       "0           C.F.T.  2013.0   \n",
       "1         F.F.A.A.  2012.0   \n",
       "2             I.P.  2016.0   \n",
       "3            Univ.  2014.0   \n",
       "\n",
       "   Promedio Puntaje (promedio matemáticas y lenguaje)  Promedio Puntaje NEM  \\\n",
       "0                                              450.0                  505.0   \n",
       "1                                              583.5                  577.0   \n",
       "2                                              451.0                  519.0   \n",
       "3                                              559.0                  566.0   \n",
       "\n",
       "   Promedio Puntaje Ranking  \n",
       "0                     478.0  \n",
       "1                     592.5  \n",
       "2                     500.0  \n",
       "3                     591.0  "
      ]
     },
     "execution_count": 11,
     "metadata": {},
     "output_type": "execute_result"
    }
   ],
   "source": [
    "media_institucion = df_col_filtradas.groupby(by='Tipo Institución',as_index=False).median()\n",
    "media_institucion"
   ]
  },
  {
   "cell_type": "code",
   "execution_count": 10,
   "id": "b103ca91",
   "metadata": {},
   "outputs": [
    {
     "data": {
      "text/plain": [
       "<AxesSubplot:xlabel='Tipo Institución', ylabel='Promedio Puntaje (promedio matemáticas y lenguaje)'>"
      ]
     },
     "execution_count": 10,
     "metadata": {},
     "output_type": "execute_result"
    },
    {
     "data": {
      "image/png": "[encoded data removed]",
      "text/plain": [
       "<Figure size 1152x360 with 3 Axes>"
      ]
     },
     "metadata": {
      "needs_background": "light"
     },
     "output_type": "display_data"
    }
   ],
   "source": [
    "f, ax = plt.subplots(1,3,figsize=(16,5))\n",
    "f.suptitle(\"Tipo de institución\")\n",
    "sns.barplot(data=promedio_institucion, x='Tipo Institución', y='Promedio Puntaje NEM', ax=ax[0])\n",
    "sns.barplot(data=promedio_institucion, x='Tipo Institución', y='Promedio Puntaje Ranking',ax=ax[1])\n",
    "sns.barplot(data=promedio_institucion, x='Tipo Institución', y='Promedio Puntaje (promedio matemáticas y lenguaje)',ax=ax[2])\n"
   ]
  }
 ],
 "metadata": {
  "kernelspec": {
   "display_name": "Python 3 (ipykernel)",
   "language": "python",
   "name": "python3"
  },
  "language_info": {
   "codemirror_mode": {
    "name": "ipython",
    "version": 3
   },
   "file_extension": ".py",
   "mimetype": "text/x-python",
   "name": "python",
   "nbconvert_exporter": "python",
   "pygments_lexer": "ipython3",
   "version": "3.10.7"
  }
 },
 "nbformat": 4,
 "nbformat_minor": 5
}
