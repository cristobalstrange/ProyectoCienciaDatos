{
 "cells": [
  {
   "cell_type": "markdown",
   "id": "c35dbe50",
   "metadata": {},
   "source": [
    "*Proyecto final*\n",
    "\n",
    "*Curso: Introducción a la ciencia de datos (IMT-2200)*\n",
    "\n",
    "*Profesora: Paula Aguirre*\n",
    "\n",
    "*Integrantes: Karla Muñoz, Cristobal Strange, Antonia Painen, Ignacio Garrido*\n",
    "\n",
    "*Pontifice Universidad Catolica de Chile*"
   ]
  },
  {
   "cell_type": "markdown",
   "id": "e0ccdf51",
   "metadata": {},
   "source": [
    "**<font size=\"5\">Proyecto de Investigación sobre el acceso a la educación superior</font>**"
   ]
  },
  {
   "cell_type": "markdown",
   "id": "6da99244",
   "metadata": {},
   "source": [
    "**Título del proyecto**: La influencia de variables sociales, económicas y académicas en el acceso a la educación superior de estudiantes de enseñanza media."
   ]
  },
  {
   "cell_type": "markdown",
   "id": "c392fb50",
   "metadata": {},
   "source": [
    "**Contexto y motivación**: Chile ha sido catalogado como uno de los países más desiguales de latinoamérica. Esto ha generado brechas de acceso en distintas materias que  dependen de factores económicos como la salud, las pensiones, o la educación. \n",
    "El presente proyecto de investigación tiene como motivación analizar el cómo impactan  las variables sociales y económicas  en los alumnos de cuarto medio del año 2021 de la región metropolitana en el acceso a la educación superior (Alumnos de 17 y 18 años).\n"
   ]
  },
  {
   "cell_type": "markdown",
   "id": "5032a6cb",
   "metadata": {},
   "source": [
    "**Objetivos**: El objetivo general es encontrar una correlación entre variables escogidas a nivel de promedio por comunas en la región metropolitana realizando una regresión lineal y un análisis georeferenciado con métricas estadísticas. Para ello se eligen las siguientes variables:\n",
    "\n",
    "1)Sociales binarias seleccionadas tales como la situación familiar de unidad de los padres (Padres separados o viviendo juntos) y la situación laboral (cesante o con trabajo).\n",
    "\n",
    "2)Variables económicas como el ingreso promedio por comuna.\n",
    "\n",
    "3)Variables académicas referidas al rendimiento académico (promedio general; y puntaje promedio por comuna).\n"
   ]
  },
  {
   "cell_type": "markdown",
   "id": "9c2aa961",
   "metadata": {},
   "source": [
    "**Datos**: En general, se utilizan datos públicos pertenecientes a bases de datos del ministerio de educación del estado de Chile y del consejo nacional de educación:\n",
    " \n",
    "1) **Rendimiento académico por estudiante (Ministerio de educación)**:  Corresponde a un dataframe de los resultados académicos obtenidos en el año 2021 de todos los alumnos de todos los colegios de Chile. Este dataframe fue filtrado, escogiendo como criterios de filtro las comunas de la región metropolitana, y un rango de edad de los alumnos entre 17 y 18 años para así obtener el rendimiento académico promedio de notas por comuna.\n",
    "\n",
    "*Extraído de https://datosabiertos.mineduc.cl/rendimiento-por-estudiante-2/*\n",
    "\n",
    "2) **Pruebas de admisión a la educación superior (Ministerio de educación)**: Corresponde a un dataframe que contiene información sobre la prueba de admisión 2022 (realizada en diciembre del 2021). De este dataframe se extraen los datos referidos a variables sociales y del puntaje obtenido por los estudiantes en promedio por comuna de la región metropolitana.\n",
    "\n",
    "*Extraido de https://datosabiertos.mineduc.cl/pruebas-de-admision-a-la-educacion-superior/*\n",
    "\n",
    "3) **Índices BD Matrículas (Consejos nacional de educación)**: Corresponde a una base de datos qué contiene información sobre matrículas, aranceles, vacantes de carreras universitarias de Chile entre el año 2005 y 2022. Para efectos de este trabajo se utilizan los datos del año 2021 (admisión 2022).\n",
    "\n",
    "*Extraido de https://www.cned.cl/bases-de-datos*\n",
    "\n",
    "4) **Cartografia de la region metropolitana**: Corresponde a un geodataframe con la cartografia de la region metropolitana en formato gpkg. \n",
    "\n",
    "*Extraido de https://www.ide.cl/*\n",
    "\n",
    "\n"
   ]
  },
  {
   "cell_type": "markdown",
   "id": "206f8379",
   "metadata": {},
   "source": [
    "**Preguntas de investigación**: La investigación pretende resolver las siguientes preguntas de investigación.\n",
    "\n",
    "¿Influye el factor económico en el acceso  a la educación superior?\n",
    "\n",
    "¿Influye el rendimiento académico en el acceso a la educación superior?\n",
    "\n",
    "¿Influye la situación social de los estudiantes  en el acceso a la educación superior?\n",
    "\n",
    "¿Cuál de las anteriores variables puede tener un mayor impacto?\n",
    "\n",
    "¿Es posible predecir la elección de carrera de un estudiante en base a las variables seleccionadas? \n"
   ]
  },
  {
   "cell_type": "markdown",
   "id": "c1cdf8ef",
   "metadata": {},
   "source": [
    "**Diseño tentativo**: La idea de este proyecto es contrastar las distintas variables económicas, sociales y académicas escogidas, y con ello encontrar el impacto que estas poseen en el acceso a la educación superior de los estudiantes y con ello ver si variables generadas por la desigualdad de Chile son determinantes en el futuro de los jovenes del pais.\n"
   ]
  }
 ],
 "metadata": {
  "kernelspec": {
   "display_name": "Python 3 (ipykernel)",
   "language": "python",
   "name": "python3"
  },
  "language_info": {
   "codemirror_mode": {
    "name": "ipython",
    "version": 3
   },
   "file_extension": ".py",
   "mimetype": "text/x-python",
   "name": "python",
   "nbconvert_exporter": "python",
   "pygments_lexer": "ipython3",
   "version": "3.10.7"
  }
 },
 "nbformat": 4,
 "nbformat_minor": 5
}
