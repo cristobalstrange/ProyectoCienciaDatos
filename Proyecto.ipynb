{
 "cells": [
  {
   "cell_type": "code",
   "execution_count": 15,
   "id": "819582b4",
   "metadata": {},
   "outputs": [],
   "source": [
    "import numpy as np\n",
    "import pandas as pd\n",
    "import geopandas as gpd\n",
    "import matplotlib.pyplot as plt\n",
    "import seaborn as sns\n",
    "\n",
    "def limpiar(string):\n",
    "    r = \"\"\n",
    "    for i in string:\n",
    "        i = i.lower()\n",
    "        if i == \"á\":\n",
    "            r += \"a\"\n",
    "        elif i== \"é\":\n",
    "            r += \"e\"\n",
    "        elif i== \"í\":\n",
    "            r += \"i\"\n",
    "        elif i== \"ó\":\n",
    "            r += \"o\"\n",
    "        elif i== \"ú\":\n",
    "            r += \"u\"\n",
    "        else:\n",
    "            r+=i\n",
    "    return r\n"
   ]
  },
  {
   "cell_type": "markdown",
   "id": "3ff59cc0",
   "metadata": {},
   "source": [
    "# Texto introducción"
   ]
  },
  {
   "cell_type": "code",
   "execution_count": 40,
   "id": "d745b226",
   "metadata": {},
   "outputs": [
    {
     "data": {
      "text/html": [
       "<div>\n",
       "<style scoped>\n",
       "    .dataframe tbody tr th:only-of-type {\n",
       "        vertical-align: middle;\n",
       "    }\n",
       "\n",
       "    .dataframe tbody tr th {\n",
       "        vertical-align: top;\n",
       "    }\n",
       "\n",
       "    .dataframe thead th {\n",
       "        text-align: right;\n",
       "    }\n",
       "</style>\n",
       "<table border=\"1\" class=\"dataframe\">\n",
       "  <thead>\n",
       "    <tr style=\"text-align: right;\">\n",
       "      <th></th>\n",
       "      <th>PROM_GRAL</th>\n",
       "      <th>ASISTENCIA</th>\n",
       "      <th>COMUNA</th>\n",
       "    </tr>\n",
       "  </thead>\n",
       "  <tbody>\n",
       "    <tr>\n",
       "      <th>0</th>\n",
       "      <td>5.484932</td>\n",
       "      <td>81.178082</td>\n",
       "      <td>ALHUE</td>\n",
       "    </tr>\n",
       "    <tr>\n",
       "      <th>1</th>\n",
       "      <td>5.182028</td>\n",
       "      <td>76.610599</td>\n",
       "      <td>BUIN</td>\n",
       "    </tr>\n",
       "    <tr>\n",
       "      <th>2</th>\n",
       "      <td>5.629167</td>\n",
       "      <td>83.392361</td>\n",
       "      <td>CALERA DE TANGO</td>\n",
       "    </tr>\n",
       "    <tr>\n",
       "      <th>3</th>\n",
       "      <td>4.841667</td>\n",
       "      <td>85.937500</td>\n",
       "      <td>CERRILLOS</td>\n",
       "    </tr>\n",
       "    <tr>\n",
       "      <th>4</th>\n",
       "      <td>3.677381</td>\n",
       "      <td>57.619048</td>\n",
       "      <td>CERRO NAVIA</td>\n",
       "    </tr>\n",
       "  </tbody>\n",
       "</table>\n",
       "</div>"
      ],
      "text/plain": [
       "   PROM_GRAL  ASISTENCIA           COMUNA\n",
       "0   5.484932   81.178082            ALHUE\n",
       "1   5.182028   76.610599             BUIN\n",
       "2   5.629167   83.392361  CALERA DE TANGO\n",
       "3   4.841667   85.937500        CERRILLOS\n",
       "4   3.677381   57.619048      CERRO NAVIA"
      ]
     },
     "execution_count": 40,
     "metadata": {},
     "output_type": "execute_result"
    }
   ],
   "source": [
    "df_rendimiento = pd.read_csv('Dataframes/rendimiento_promedio_filtrado_2021.csv')\n",
    "df_psu = pd.read_csv(\"Dataframes/promedio_puntajes_pdt.csv\")\n",
    "\n",
    "gdf_comunas = gpd.read_file(\"Dataframes/COMUNA/COMUNAS_2020.shp\").to_crs(4326)[[\"geometry\", \"COMUNA\", \"REGION\"]]\n",
    "gdf_comunas = gdf_comunas[gdf_comunas[\"REGION\"] == \"Metropolitana de Santiago\"]\n",
    "gdf_comunas.COMUNA = gdf_comunas.COMUNA.map(lambda x:limpiar(x).upper())\n",
    "\n",
    "df_rendimiento.drop(columns=[\"COD_COM_RBD\", \"COD_DEPE2\"], inplace=True)\n",
    "df_rendimiento.rename(columns={\"NOM_COM_RBD\": \"COMUNA\"}, inplace=True)\n",
    "df_rendimiento.COMUNA = df_rendimiento.COMUNA.map(lambda x:limpiar(x).upper())\n",
    "df_rendimiento.head()"
   ]
  },
  {
   "cell_type": "code",
   "execution_count": 24,
   "id": "8d690304",
   "metadata": {
    "scrolled": true
   },
   "outputs": [
    {
     "data": {
      "text/html": [
       "<div>\n",
       "<style scoped>\n",
       "    .dataframe tbody tr th:only-of-type {\n",
       "        vertical-align: middle;\n",
       "    }\n",
       "\n",
       "    .dataframe tbody tr th {\n",
       "        vertical-align: top;\n",
       "    }\n",
       "\n",
       "    .dataframe thead th {\n",
       "        text-align: right;\n",
       "    }\n",
       "</style>\n",
       "<table border=\"1\" class=\"dataframe\">\n",
       "  <thead>\n",
       "    <tr style=\"text-align: right;\">\n",
       "      <th></th>\n",
       "      <th>COMUNA</th>\n",
       "      <th>NEM</th>\n",
       "      <th>RANKING</th>\n",
       "      <th>LENGUAJE</th>\n",
       "      <th>MATEMATICAS</th>\n",
       "      <th>HISTORIA</th>\n",
       "      <th>CIENCIAS</th>\n",
       "    </tr>\n",
       "  </thead>\n",
       "  <tbody>\n",
       "    <tr>\n",
       "      <th>0</th>\n",
       "      <td>ALHUE</td>\n",
       "      <td>5.768235</td>\n",
       "      <td>633.235294</td>\n",
       "      <td>398.82224</td>\n",
       "      <td>438.52274</td>\n",
       "      <td>414.59260</td>\n",
       "      <td>419.57693</td>\n",
       "    </tr>\n",
       "    <tr>\n",
       "      <th>1</th>\n",
       "      <td>BUIN</td>\n",
       "      <td>5.834584</td>\n",
       "      <td>596.377888</td>\n",
       "      <td>478.75198</td>\n",
       "      <td>489.61330</td>\n",
       "      <td>481.09490</td>\n",
       "      <td>478.68400</td>\n",
       "    </tr>\n",
       "    <tr>\n",
       "      <th>2</th>\n",
       "      <td>CALERA DE TANGO</td>\n",
       "      <td>6.062633</td>\n",
       "      <td>657.846975</td>\n",
       "      <td>520.87805</td>\n",
       "      <td>533.76110</td>\n",
       "      <td>523.26117</td>\n",
       "      <td>537.23224</td>\n",
       "    </tr>\n",
       "    <tr>\n",
       "      <th>3</th>\n",
       "      <td>CERRILLOS</td>\n",
       "      <td>5.695290</td>\n",
       "      <td>571.275214</td>\n",
       "      <td>488.19420</td>\n",
       "      <td>486.79790</td>\n",
       "      <td>479.68362</td>\n",
       "      <td>483.45578</td>\n",
       "    </tr>\n",
       "    <tr>\n",
       "      <th>4</th>\n",
       "      <td>CERRO NAVIA</td>\n",
       "      <td>5.707121</td>\n",
       "      <td>580.460606</td>\n",
       "      <td>434.11290</td>\n",
       "      <td>462.51868</td>\n",
       "      <td>446.87740</td>\n",
       "      <td>422.11346</td>\n",
       "    </tr>\n",
       "  </tbody>\n",
       "</table>\n",
       "</div>"
      ],
      "text/plain": [
       "            COMUNA       NEM     RANKING   LENGUAJE  MATEMATICAS   HISTORIA  \\\n",
       "0            ALHUE  5.768235  633.235294  398.82224    438.52274  414.59260   \n",
       "1             BUIN  5.834584  596.377888  478.75198    489.61330  481.09490   \n",
       "2  CALERA DE TANGO  6.062633  657.846975  520.87805    533.76110  523.26117   \n",
       "3        CERRILLOS  5.695290  571.275214  488.19420    486.79790  479.68362   \n",
       "4      CERRO NAVIA  5.707121  580.460606  434.11290    462.51868  446.87740   \n",
       "\n",
       "    CIENCIAS  \n",
       "0  419.57693  \n",
       "1  478.68400  \n",
       "2  537.23224  \n",
       "3  483.45578  \n",
       "4  422.11346  "
      ]
     },
     "execution_count": 24,
     "metadata": {},
     "output_type": "execute_result"
    }
   ],
   "source": [
    "df_psu.head()"
   ]
  },
  {
   "cell_type": "code",
   "execution_count": 33,
   "id": "99cbc76e",
   "metadata": {},
   "outputs": [
    {
     "data": {
      "text/plain": [
       "<AxesSubplot:>"
      ]
     },
     "execution_count": 33,
     "metadata": {},
     "output_type": "execute_result"
    },
    {
     "data": {
      "image/png": "[encoded data removed]",
      "text/plain": [
       "<Figure size 432x288 with 1 Axes>"
      ]
     },
     "metadata": {
      "needs_background": "light"
     },
     "output_type": "display_data"
    }
   ],
   "source": [
    "gdf_comunas.plot()"
   ]
  },
  {
   "cell_type": "code",
   "execution_count": 44,
   "id": "74906dc9",
   "metadata": {
    "scrolled": true
   },
   "outputs": [
    {
     "data": {
      "text/html": [
       "<div>\n",
       "<style scoped>\n",
       "    .dataframe tbody tr th:only-of-type {\n",
       "        vertical-align: middle;\n",
       "    }\n",
       "\n",
       "    .dataframe tbody tr th {\n",
       "        vertical-align: top;\n",
       "    }\n",
       "\n",
       "    .dataframe thead th {\n",
       "        text-align: right;\n",
       "    }\n",
       "</style>\n",
       "<table border=\"1\" class=\"dataframe\">\n",
       "  <thead>\n",
       "    <tr style=\"text-align: right;\">\n",
       "      <th></th>\n",
       "      <th>COMUNA</th>\n",
       "      <th>PROM_GRAL</th>\n",
       "      <th>ASISTENCIA</th>\n",
       "      <th>NEM</th>\n",
       "      <th>RANKING</th>\n",
       "      <th>LENGUAJE</th>\n",
       "      <th>MATEMATICAS</th>\n",
       "      <th>HISTORIA</th>\n",
       "      <th>CIENCIAS</th>\n",
       "    </tr>\n",
       "  </thead>\n",
       "  <tbody>\n",
       "    <tr>\n",
       "      <th>0</th>\n",
       "      <td>ALHUE</td>\n",
       "      <td>5.484932</td>\n",
       "      <td>81.178082</td>\n",
       "      <td>5.768235</td>\n",
       "      <td>633.235294</td>\n",
       "      <td>398.82224</td>\n",
       "      <td>438.52274</td>\n",
       "      <td>414.59260</td>\n",
       "      <td>419.57693</td>\n",
       "    </tr>\n",
       "    <tr>\n",
       "      <th>1</th>\n",
       "      <td>BUIN</td>\n",
       "      <td>5.182028</td>\n",
       "      <td>76.610599</td>\n",
       "      <td>5.834584</td>\n",
       "      <td>596.377888</td>\n",
       "      <td>478.75198</td>\n",
       "      <td>489.61330</td>\n",
       "      <td>481.09490</td>\n",
       "      <td>478.68400</td>\n",
       "    </tr>\n",
       "    <tr>\n",
       "      <th>2</th>\n",
       "      <td>CALERA DE TANGO</td>\n",
       "      <td>5.629167</td>\n",
       "      <td>83.392361</td>\n",
       "      <td>6.062633</td>\n",
       "      <td>657.846975</td>\n",
       "      <td>520.87805</td>\n",
       "      <td>533.76110</td>\n",
       "      <td>523.26117</td>\n",
       "      <td>537.23224</td>\n",
       "    </tr>\n",
       "    <tr>\n",
       "      <th>3</th>\n",
       "      <td>CERRILLOS</td>\n",
       "      <td>4.841667</td>\n",
       "      <td>85.937500</td>\n",
       "      <td>5.695290</td>\n",
       "      <td>571.275214</td>\n",
       "      <td>488.19420</td>\n",
       "      <td>486.79790</td>\n",
       "      <td>479.68362</td>\n",
       "      <td>483.45578</td>\n",
       "    </tr>\n",
       "    <tr>\n",
       "      <th>4</th>\n",
       "      <td>CERRO NAVIA</td>\n",
       "      <td>3.677381</td>\n",
       "      <td>57.619048</td>\n",
       "      <td>5.707121</td>\n",
       "      <td>580.460606</td>\n",
       "      <td>434.11290</td>\n",
       "      <td>462.51868</td>\n",
       "      <td>446.87740</td>\n",
       "      <td>422.11346</td>\n",
       "    </tr>\n",
       "  </tbody>\n",
       "</table>\n",
       "</div>"
      ],
      "text/plain": [
       "            COMUNA  PROM_GRAL  ASISTENCIA       NEM     RANKING   LENGUAJE  \\\n",
       "0            ALHUE   5.484932   81.178082  5.768235  633.235294  398.82224   \n",
       "1             BUIN   5.182028   76.610599  5.834584  596.377888  478.75198   \n",
       "2  CALERA DE TANGO   5.629167   83.392361  6.062633  657.846975  520.87805   \n",
       "3        CERRILLOS   4.841667   85.937500  5.695290  571.275214  488.19420   \n",
       "4      CERRO NAVIA   3.677381   57.619048  5.707121  580.460606  434.11290   \n",
       "\n",
       "   MATEMATICAS   HISTORIA   CIENCIAS  \n",
       "0    438.52274  414.59260  419.57693  \n",
       "1    489.61330  481.09490  478.68400  \n",
       "2    533.76110  523.26117  537.23224  \n",
       "3    486.79790  479.68362  483.45578  \n",
       "4    462.51868  446.87740  422.11346  "
      ]
     },
     "execution_count": 44,
     "metadata": {},
     "output_type": "execute_result"
    }
   ],
   "source": [
    "gdf_todo = df_rendimiento.merge(df_psu, on=\"COMUNA\")\n",
    "gdf_todo = gdf_todo[[\"COMUNA\", \"PROM_GRAL\", \"ASISTENCIA\", \"NEM\", \"RANKING\", \"LENGUAJE\", \"MATEMATICAS\", \"HISTORIA\", \"CIENCIAS\"]]\n",
    "gdf_todo.head()"
   ]
  },
  {
   "cell_type": "markdown",
   "id": "31f40ac1",
   "metadata": {},
   "source": [
    "# Desarrollo"
   ]
  },
  {
   "cell_type": "code",
   "execution_count": null,
   "id": "581f25a4",
   "metadata": {},
   "outputs": [],
   "source": [
    "#Algo de machine learning?"
   ]
  },
  {
   "cell_type": "code",
   "execution_count": null,
   "id": "faf6d0b2",
   "metadata": {},
   "outputs": [],
   "source": [
    "#Testear el machine learning"
   ]
  }
 ],
 "metadata": {
  "kernelspec": {
   "display_name": "Python 3 (ipykernel)",
   "language": "python",
   "name": "python3"
  },
  "language_info": {
   "codemirror_mode": {
    "name": "ipython",
    "version": 3
   },
   "file_extension": ".py",
   "mimetype": "text/x-python",
   "name": "python",
   "nbconvert_exporter": "python",
   "pygments_lexer": "ipython3",
   "version": "3.10.6"
  }
 },
 "nbformat": 4,
 "nbformat_minor": 5
}
