{
 "cells": [
  {
   "cell_type": "markdown",
   "id": "1d06af5f",
   "metadata": {},
   "source": [
    "**Motivacion de la investigacion**"
   ]
  },
  {
   "cell_type": "markdown",
   "id": "ea8c8ff4",
   "metadata": {},
   "source": [
    "**Preguntas de Investigacion y objetivos.**"
   ]
  },
  {
   "cell_type": "code",
   "execution_count": 5,
   "id": "bfcb5237",
   "metadata": {},
   "outputs": [],
   "source": [
    "import pandas as pd\n",
    "import geopandas as gpd\n",
    "import seaborn as sns\n",
    "from matplotlib import pyplot as plt\n",
    "import seaborn as sns"
   ]
  },
  {
   "cell_type": "code",
   "execution_count": null,
   "id": "d41efd88",
   "metadata": {},
   "outputs": [],
   "source": [
    "def limpiar(string):\n",
    "    r = \"\"\n",
    "    for i in string:\n",
    "        if i == \"á\":\n",
    "            r += \"a\"\n",
    "        elif i== \"é\":\n",
    "            r += \"e\"\n",
    "        elif i== \"í\":\n",
    "            r += \"i\"\n",
    "        elif i== \"ó\":\n",
    "            r += \"o\"\n",
    "        elif i== \"ú\":\n",
    "            r += \"u\"\n",
    "        else:\n",
    "            r+=i\n",
    "    return r"
   ]
  },
  {
   "cell_type": "markdown",
   "id": "e7b8e0c0",
   "metadata": {},
   "source": [
    "**Dataframe de tipo de institucion educativa preferente por alumnos saliendo de Cuarto Medio**"
   ]
  },
  {
   "cell_type": "code",
   "execution_count": 6,
   "id": "4972c62c",
   "metadata": {},
   "outputs": [
    {
     "data": {
      "text/plain": [
       "Index(['Año', 'Cód. Institución', 'Nombre Institución', 'Tipo Institución',\n",
       "       'Clasificación1', 'Clasificación2', 'Clasificación3', 'Clasificación4',\n",
       "       'Clasificación5', 'Clasificación6', 'Nombre de la Sede',\n",
       "       'Comuna donde se imparte la carrera o programa', 'Nombre Region',\n",
       "       'Orden Geográfico de la Región (Norte aSur)', 'Cód. Carrera',\n",
       "       'Carrera Genérica', 'Nombre Programa', 'Mención o Especialidad',\n",
       "       'Horario', 'Tipo Programa', 'Area Conocimiento', 'idgenerocarrera',\n",
       "       'Tipo Carrera', 'IngresoDirecto', 'Año Inicio Actividades',\n",
       "       'Nombre del Campus', 'Duración (en semestres)', 'Cód. Campus',\n",
       "       'Cód. Sede', 'Título', 'Grado Académico',\n",
       "       'Máximo Puntaje (promedio matemáticas y lenguaje)',\n",
       "       'Promedio Puntaje (promedio matemáticas y lenguaje)',\n",
       "       'Mínimo Puntaje (promedio matemáticas y lenguaje)',\n",
       "       'Puntaje de corte (primer seleccionado)',\n",
       "       'Puntaje de corte (promedio de la carrera)',\n",
       "       'Puntaje de corte (último seleccionado)', 'Máximo Puntaje NEM',\n",
       "       'Promedio Puntaje NEM', 'Mínimo Puntaje NEM', 'Máximo Puntaje Ranking',\n",
       "       'Promedio Puntaje Ranking', 'Mínimo Puntaje Ranking',\n",
       "       'Nº Alumnos Ingreso Via PSU o PDT', 'Nº Alumnos Ingreso Otra Via',\n",
       "       'Valor de matrícula', 'Valor de arancel', 'Valor del Título',\n",
       "       'Tipo Moneda', 'Vacantes', 'Matrícula primer año hombres',\n",
       "       'Matrícula primer año mujeres', 'Matrícula primer año extranjeros',\n",
       "       'Matrícula Primer Año', 'Matrícula total hombres',\n",
       "       'Matrícula total mujeres', 'Matrícula total extranjeros',\n",
       "       'Matrícula Total', 'Códgo SIES', 'Pregrado/Posgrado'],\n",
       "      dtype='object')"
      ]
     },
     "execution_count": 6,
     "metadata": {},
     "output_type": "execute_result"
    }
   ],
   "source": [
    "df_carreras = pd.read_excel('Dataframes/basedefinitivaindices_2005-2022.xlsx')\n",
    "df_carreras.columns"
   ]
  },
  {
   "cell_type": "code",
   "execution_count": 7,
   "id": "8e783af8",
   "metadata": {},
   "outputs": [
    {
     "data": {
      "text/html": [
       "<div>\n",
       "<style scoped>\n",
       "    .dataframe tbody tr th:only-of-type {\n",
       "        vertical-align: middle;\n",
       "    }\n",
       "\n",
       "    .dataframe tbody tr th {\n",
       "        vertical-align: top;\n",
       "    }\n",
       "\n",
       "    .dataframe thead th {\n",
       "        text-align: right;\n",
       "    }\n",
       "</style>\n",
       "<table border=\"1\" class=\"dataframe\">\n",
       "  <thead>\n",
       "    <tr style=\"text-align: right;\">\n",
       "      <th></th>\n",
       "      <th>Año</th>\n",
       "      <th>Nombre Institución</th>\n",
       "      <th>Nombre Region</th>\n",
       "      <th>Tipo Institución</th>\n",
       "      <th>Promedio Puntaje (promedio matemáticas y lenguaje)</th>\n",
       "      <th>Promedio Puntaje NEM</th>\n",
       "      <th>Promedio Puntaje Ranking</th>\n",
       "    </tr>\n",
       "  </thead>\n",
       "  <tbody>\n",
       "    <tr>\n",
       "      <th>0</th>\n",
       "      <td>2022</td>\n",
       "      <td>U. DE CHILE</td>\n",
       "      <td>Región Metropolitana</td>\n",
       "      <td>Univ.</td>\n",
       "      <td>599.0</td>\n",
       "      <td>696.0</td>\n",
       "      <td>733.0</td>\n",
       "    </tr>\n",
       "    <tr>\n",
       "      <th>1</th>\n",
       "      <td>2022</td>\n",
       "      <td>U. DE CHILE</td>\n",
       "      <td>Región Metropolitana</td>\n",
       "      <td>Univ.</td>\n",
       "      <td>630.0</td>\n",
       "      <td>739.0</td>\n",
       "      <td>785.0</td>\n",
       "    </tr>\n",
       "    <tr>\n",
       "      <th>2</th>\n",
       "      <td>2022</td>\n",
       "      <td>U. DE CHILE</td>\n",
       "      <td>Región Metropolitana</td>\n",
       "      <td>Univ.</td>\n",
       "      <td>682.0</td>\n",
       "      <td>749.0</td>\n",
       "      <td>773.0</td>\n",
       "    </tr>\n",
       "    <tr>\n",
       "      <th>3</th>\n",
       "      <td>2022</td>\n",
       "      <td>U. DE CHILE</td>\n",
       "      <td>Región Metropolitana</td>\n",
       "      <td>Univ.</td>\n",
       "      <td>637.0</td>\n",
       "      <td>726.0</td>\n",
       "      <td>766.0</td>\n",
       "    </tr>\n",
       "    <tr>\n",
       "      <th>4</th>\n",
       "      <td>2022</td>\n",
       "      <td>U. DE CHILE</td>\n",
       "      <td>Región Metropolitana</td>\n",
       "      <td>Univ.</td>\n",
       "      <td>597.0</td>\n",
       "      <td>697.0</td>\n",
       "      <td>732.0</td>\n",
       "    </tr>\n",
       "  </tbody>\n",
       "</table>\n",
       "</div>"
      ],
      "text/plain": [
       "    Año Nombre Institución         Nombre Region Tipo Institución  \\\n",
       "0  2022        U. DE CHILE  Región Metropolitana            Univ.   \n",
       "1  2022        U. DE CHILE  Región Metropolitana            Univ.   \n",
       "2  2022        U. DE CHILE  Región Metropolitana            Univ.   \n",
       "3  2022        U. DE CHILE  Región Metropolitana            Univ.   \n",
       "4  2022        U. DE CHILE  Región Metropolitana            Univ.   \n",
       "\n",
       "   Promedio Puntaje (promedio matemáticas y lenguaje)  Promedio Puntaje NEM  \\\n",
       "0                                              599.0                  696.0   \n",
       "1                                              630.0                  739.0   \n",
       "2                                              682.0                  749.0   \n",
       "3                                              637.0                  726.0   \n",
       "4                                              597.0                  697.0   \n",
       "\n",
       "   Promedio Puntaje Ranking  \n",
       "0                     733.0  \n",
       "1                     785.0  \n",
       "2                     773.0  \n",
       "3                     766.0  \n",
       "4                     732.0  "
      ]
     },
     "execution_count": 7,
     "metadata": {},
     "output_type": "execute_result"
    }
   ],
   "source": [
    "df_col_filtradas = df_carreras[['Año','Nombre Institución','Nombre Region','Tipo Institución','Promedio Puntaje (promedio matemáticas y lenguaje)','Promedio Puntaje NEM','Promedio Puntaje Ranking']]\n",
    "df_col_filtradas.head()"
   ]
  },
  {
   "cell_type": "code",
   "execution_count": 8,
   "id": "299e15f8",
   "metadata": {},
   "outputs": [
    {
     "data": {
      "text/html": [
       "<div>\n",
       "<style scoped>\n",
       "    .dataframe tbody tr th:only-of-type {\n",
       "        vertical-align: middle;\n",
       "    }\n",
       "\n",
       "    .dataframe tbody tr th {\n",
       "        vertical-align: top;\n",
       "    }\n",
       "\n",
       "    .dataframe thead th {\n",
       "        text-align: right;\n",
       "    }\n",
       "</style>\n",
       "<table border=\"1\" class=\"dataframe\">\n",
       "  <thead>\n",
       "    <tr style=\"text-align: right;\">\n",
       "      <th></th>\n",
       "      <th>Año</th>\n",
       "      <th>Nombre Institución</th>\n",
       "      <th>Nombre Region</th>\n",
       "      <th>Tipo Institución</th>\n",
       "      <th>Promedio Puntaje (promedio matemáticas y lenguaje)</th>\n",
       "      <th>Promedio Puntaje NEM</th>\n",
       "      <th>Promedio Puntaje Ranking</th>\n",
       "    </tr>\n",
       "  </thead>\n",
       "  <tbody>\n",
       "    <tr>\n",
       "      <th>0</th>\n",
       "      <td>2022</td>\n",
       "      <td>U. DE CHILE</td>\n",
       "      <td>Región Metropolitana</td>\n",
       "      <td>Univ.</td>\n",
       "      <td>599.0</td>\n",
       "      <td>696.0</td>\n",
       "      <td>733.0</td>\n",
       "    </tr>\n",
       "    <tr>\n",
       "      <th>1</th>\n",
       "      <td>2022</td>\n",
       "      <td>U. DE CHILE</td>\n",
       "      <td>Región Metropolitana</td>\n",
       "      <td>Univ.</td>\n",
       "      <td>630.0</td>\n",
       "      <td>739.0</td>\n",
       "      <td>785.0</td>\n",
       "    </tr>\n",
       "    <tr>\n",
       "      <th>2</th>\n",
       "      <td>2022</td>\n",
       "      <td>U. DE CHILE</td>\n",
       "      <td>Región Metropolitana</td>\n",
       "      <td>Univ.</td>\n",
       "      <td>682.0</td>\n",
       "      <td>749.0</td>\n",
       "      <td>773.0</td>\n",
       "    </tr>\n",
       "    <tr>\n",
       "      <th>3</th>\n",
       "      <td>2022</td>\n",
       "      <td>U. DE CHILE</td>\n",
       "      <td>Región Metropolitana</td>\n",
       "      <td>Univ.</td>\n",
       "      <td>637.0</td>\n",
       "      <td>726.0</td>\n",
       "      <td>766.0</td>\n",
       "    </tr>\n",
       "    <tr>\n",
       "      <th>4</th>\n",
       "      <td>2022</td>\n",
       "      <td>U. DE CHILE</td>\n",
       "      <td>Región Metropolitana</td>\n",
       "      <td>Univ.</td>\n",
       "      <td>597.0</td>\n",
       "      <td>697.0</td>\n",
       "      <td>732.0</td>\n",
       "    </tr>\n",
       "  </tbody>\n",
       "</table>\n",
       "</div>"
      ],
      "text/plain": [
       "    Año Nombre Institución         Nombre Region Tipo Institución  \\\n",
       "0  2022        U. DE CHILE  Región Metropolitana            Univ.   \n",
       "1  2022        U. DE CHILE  Región Metropolitana            Univ.   \n",
       "2  2022        U. DE CHILE  Región Metropolitana            Univ.   \n",
       "3  2022        U. DE CHILE  Región Metropolitana            Univ.   \n",
       "4  2022        U. DE CHILE  Región Metropolitana            Univ.   \n",
       "\n",
       "   Promedio Puntaje (promedio matemáticas y lenguaje)  Promedio Puntaje NEM  \\\n",
       "0                                              599.0                  696.0   \n",
       "1                                              630.0                  739.0   \n",
       "2                                              682.0                  749.0   \n",
       "3                                              637.0                  726.0   \n",
       "4                                              597.0                  697.0   \n",
       "\n",
       "   Promedio Puntaje Ranking  \n",
       "0                     733.0  \n",
       "1                     785.0  \n",
       "2                     773.0  \n",
       "3                     766.0  \n",
       "4                     732.0  "
      ]
     },
     "execution_count": 8,
     "metadata": {},
     "output_type": "execute_result"
    }
   ],
   "source": [
    "df_col_filtradas = df_col_filtradas[df_col_filtradas['Nombre Region']=='Región Metropolitana'].reset_index(drop=True)\n",
    "df_col_filtradas.head()"
   ]
  },
  {
   "cell_type": "code",
   "execution_count": 9,
   "id": "408e030d",
   "metadata": {},
   "outputs": [
    {
     "data": {
      "text/html": [
       "<div>\n",
       "<style scoped>\n",
       "    .dataframe tbody tr th:only-of-type {\n",
       "        vertical-align: middle;\n",
       "    }\n",
       "\n",
       "    .dataframe tbody tr th {\n",
       "        vertical-align: top;\n",
       "    }\n",
       "\n",
       "    .dataframe thead th {\n",
       "        text-align: right;\n",
       "    }\n",
       "</style>\n",
       "<table border=\"1\" class=\"dataframe\">\n",
       "  <thead>\n",
       "    <tr style=\"text-align: right;\">\n",
       "      <th></th>\n",
       "      <th>Tipo Institución</th>\n",
       "      <th>Año</th>\n",
       "      <th>Promedio Puntaje (promedio matemáticas y lenguaje)</th>\n",
       "      <th>Promedio Puntaje NEM</th>\n",
       "      <th>Promedio Puntaje Ranking</th>\n",
       "    </tr>\n",
       "  </thead>\n",
       "  <tbody>\n",
       "    <tr>\n",
       "      <th>0</th>\n",
       "      <td>C.F.T.</td>\n",
       "      <td>2013.365381</td>\n",
       "      <td>464.544000</td>\n",
       "      <td>505.000000</td>\n",
       "      <td>478.000000</td>\n",
       "    </tr>\n",
       "    <tr>\n",
       "      <th>1</th>\n",
       "      <td>F.F.A.A.</td>\n",
       "      <td>2012.524675</td>\n",
       "      <td>579.578947</td>\n",
       "      <td>587.965517</td>\n",
       "      <td>601.045455</td>\n",
       "    </tr>\n",
       "    <tr>\n",
       "      <th>2</th>\n",
       "      <td>I.P.</td>\n",
       "      <td>2015.085732</td>\n",
       "      <td>458.729290</td>\n",
       "      <td>506.473684</td>\n",
       "      <td>493.727273</td>\n",
       "    </tr>\n",
       "    <tr>\n",
       "      <th>3</th>\n",
       "      <td>Univ.</td>\n",
       "      <td>2014.094611</td>\n",
       "      <td>565.539431</td>\n",
       "      <td>583.689485</td>\n",
       "      <td>613.634250</td>\n",
       "    </tr>\n",
       "  </tbody>\n",
       "</table>\n",
       "</div>"
      ],
      "text/plain": [
       "  Tipo Institución          Año  \\\n",
       "0           C.F.T.  2013.365381   \n",
       "1         F.F.A.A.  2012.524675   \n",
       "2             I.P.  2015.085732   \n",
       "3            Univ.  2014.094611   \n",
       "\n",
       "   Promedio Puntaje (promedio matemáticas y lenguaje)  Promedio Puntaje NEM  \\\n",
       "0                                         464.544000             505.000000   \n",
       "1                                         579.578947             587.965517   \n",
       "2                                         458.729290             506.473684   \n",
       "3                                         565.539431             583.689485   \n",
       "\n",
       "   Promedio Puntaje Ranking  \n",
       "0                478.000000  \n",
       "1                601.045455  \n",
       "2                493.727273  \n",
       "3                613.634250  "
      ]
     },
     "execution_count": 9,
     "metadata": {},
     "output_type": "execute_result"
    }
   ],
   "source": [
    "promedio_institucion = df_col_filtradas.groupby(by='Tipo Institución',as_index=False).mean()\n",
    "promedio_institucion"
   ]
  },
  {
   "cell_type": "code",
   "execution_count": 10,
   "id": "d38ecbde",
   "metadata": {},
   "outputs": [
    {
     "data": {
      "text/html": [
       "<div>\n",
       "<style scoped>\n",
       "    .dataframe tbody tr th:only-of-type {\n",
       "        vertical-align: middle;\n",
       "    }\n",
       "\n",
       "    .dataframe tbody tr th {\n",
       "        vertical-align: top;\n",
       "    }\n",
       "\n",
       "    .dataframe thead th {\n",
       "        text-align: right;\n",
       "    }\n",
       "</style>\n",
       "<table border=\"1\" class=\"dataframe\">\n",
       "  <thead>\n",
       "    <tr style=\"text-align: right;\">\n",
       "      <th></th>\n",
       "      <th>Tipo Institución</th>\n",
       "      <th>Año</th>\n",
       "      <th>Promedio Puntaje (promedio matemáticas y lenguaje)</th>\n",
       "      <th>Promedio Puntaje NEM</th>\n",
       "      <th>Promedio Puntaje Ranking</th>\n",
       "    </tr>\n",
       "  </thead>\n",
       "  <tbody>\n",
       "    <tr>\n",
       "      <th>0</th>\n",
       "      <td>C.F.T.</td>\n",
       "      <td>2013.0</td>\n",
       "      <td>450.0</td>\n",
       "      <td>505.0</td>\n",
       "      <td>478.0</td>\n",
       "    </tr>\n",
       "    <tr>\n",
       "      <th>1</th>\n",
       "      <td>F.F.A.A.</td>\n",
       "      <td>2012.0</td>\n",
       "      <td>583.5</td>\n",
       "      <td>577.0</td>\n",
       "      <td>592.5</td>\n",
       "    </tr>\n",
       "    <tr>\n",
       "      <th>2</th>\n",
       "      <td>I.P.</td>\n",
       "      <td>2016.0</td>\n",
       "      <td>451.0</td>\n",
       "      <td>519.0</td>\n",
       "      <td>500.0</td>\n",
       "    </tr>\n",
       "    <tr>\n",
       "      <th>3</th>\n",
       "      <td>Univ.</td>\n",
       "      <td>2014.0</td>\n",
       "      <td>559.0</td>\n",
       "      <td>566.0</td>\n",
       "      <td>591.0</td>\n",
       "    </tr>\n",
       "  </tbody>\n",
       "</table>\n",
       "</div>"
      ],
      "text/plain": [
       "  Tipo Institución     Año  \\\n",
       "0           C.F.T.  2013.0   \n",
       "1         F.F.A.A.  2012.0   \n",
       "2             I.P.  2016.0   \n",
       "3            Univ.  2014.0   \n",
       "\n",
       "   Promedio Puntaje (promedio matemáticas y lenguaje)  Promedio Puntaje NEM  \\\n",
       "0                                              450.0                  505.0   \n",
       "1                                              583.5                  577.0   \n",
       "2                                              451.0                  519.0   \n",
       "3                                              559.0                  566.0   \n",
       "\n",
       "   Promedio Puntaje Ranking  \n",
       "0                     478.0  \n",
       "1                     592.5  \n",
       "2                     500.0  \n",
       "3                     591.0  "
      ]
     },
     "execution_count": 10,
     "metadata": {},
     "output_type": "execute_result"
    }
   ],
   "source": [
    "media_institucion = df_col_filtradas.groupby(by='Tipo Institución',as_index=False).median()\n",
    "media_institucion"
   ]
  },
  {
   "cell_type": "code",
   "execution_count": 11,
   "id": "3480e8b5",
   "metadata": {},
   "outputs": [
    {
     "ename": "NameError",
     "evalue": "name 'x' is not defined",
     "output_type": "error",
     "traceback": [
      "\u001b[1;31m---------------------------------------------------------------------------\u001b[0m",
      "\u001b[1;31mNameError\u001b[0m                                 Traceback (most recent call last)",
      "Cell \u001b[1;32mIn [11], line 6\u001b[0m\n\u001b[0;32m      4\u001b[0m sns\u001b[38;5;241m.\u001b[39mbarplot(data\u001b[38;5;241m=\u001b[39mpromedio_institucion, x\u001b[38;5;241m=\u001b[39m\u001b[38;5;124m'\u001b[39m\u001b[38;5;124mTipo Institución\u001b[39m\u001b[38;5;124m'\u001b[39m, y\u001b[38;5;241m=\u001b[39m\u001b[38;5;124m'\u001b[39m\u001b[38;5;124mPromedio Puntaje Ranking\u001b[39m\u001b[38;5;124m'\u001b[39m,ax\u001b[38;5;241m=\u001b[39max[\u001b[38;5;241m1\u001b[39m])\n\u001b[0;32m      5\u001b[0m sns\u001b[38;5;241m.\u001b[39mbarplot(data\u001b[38;5;241m=\u001b[39mpromedio_institucion, x\u001b[38;5;241m=\u001b[39m\u001b[38;5;124m'\u001b[39m\u001b[38;5;124mTipo Institución\u001b[39m\u001b[38;5;124m'\u001b[39m, y\u001b[38;5;241m=\u001b[39m\u001b[38;5;124m'\u001b[39m\u001b[38;5;124mPromedio Puntaje (promedio matemáticas y lenguaje)\u001b[39m\u001b[38;5;124m'\u001b[39m,ax\u001b[38;5;241m=\u001b[39max[\u001b[38;5;241m2\u001b[39m])\n\u001b[1;32m----> 6\u001b[0m \u001b[43mx\u001b[49m\n",
      "\u001b[1;31mNameError\u001b[0m: name 'x' is not defined"
     ]
    },
    {
     "data": {
      "image/png": "[encoded data removed]",
      "text/plain": [
       "<Figure size 1600x500 with 3 Axes>"
      ]
     },
     "metadata": {},
     "output_type": "display_data"
    }
   ],
   "source": [
    "f, ax = plt.subplots(1,3,figsize=(16,5))\n",
    "f.suptitle(\"Tipo de institución\")\n",
    "sns.barplot(data=promedio_institucion, x='Tipo Institución', y='Promedio Puntaje NEM', ax=ax[0])\n",
    "sns.barplot(data=promedio_institucion, x='Tipo Institución', y='Promedio Puntaje Ranking',ax=ax[1])\n",
    "sns.barplot(data=promedio_institucion, x='Tipo Institución', y='Promedio Puntaje (promedio matemáticas y lenguaje)',ax=ax[2])\n",
    "x"
   ]
  },
  {
   "cell_type": "markdown",
   "id": "c243e192",
   "metadata": {},
   "source": [
    "**Dataframe de Ingresos y rendimiento PSU/Ranking/NEM por comuna**"
   ]
  },
  {
   "cell_type": "code",
   "execution_count": 12,
   "id": "c4d1931d",
   "metadata": {},
   "outputs": [
    {
     "ename": "FileNotFoundError",
     "evalue": "[Errno 2] No such file or directory: 'Dataframes/Socioeconomico_2022.csv'",
     "output_type": "error",
     "traceback": [
      "\u001b[1;31m---------------------------------------------------------------------------\u001b[0m",
      "\u001b[1;31mFileNotFoundError\u001b[0m                         Traceback (most recent call last)",
      "Cell \u001b[1;32mIn [12], line 1\u001b[0m\n\u001b[1;32m----> 1\u001b[0m df_soc \u001b[38;5;241m=\u001b[39m \u001b[43mpd\u001b[49m\u001b[38;5;241;43m.\u001b[39;49m\u001b[43mread_csv\u001b[49m\u001b[43m(\u001b[49m\u001b[38;5;124;43m\"\u001b[39;49m\u001b[38;5;124;43mDataframes/Socioeconomico_2022.csv\u001b[39;49m\u001b[38;5;124;43m\"\u001b[39;49m\u001b[43m,\u001b[49m\u001b[43m \u001b[49m\u001b[43mdelimiter\u001b[49m\u001b[38;5;241;43m=\u001b[39;49m\u001b[38;5;124;43m\"\u001b[39;49m\u001b[38;5;124;43m;\u001b[39;49m\u001b[38;5;124;43m\"\u001b[39;49m\u001b[43m)\u001b[49m\n\u001b[0;32m      2\u001b[0m df_soc \u001b[38;5;241m=\u001b[39m df_soc[[\u001b[38;5;124m\"\u001b[39m\u001b[38;5;124mNOMBRE_COMUNA_DOMICILIO\u001b[39m\u001b[38;5;124m\"\u001b[39m,\u001b[38;5;124m\"\u001b[39m\u001b[38;5;124mINGRESO_PERCAPITA_GRUPO_FA\u001b[39m\u001b[38;5;124m\"\u001b[39m,\u001b[38;5;124m\"\u001b[39m\u001b[38;5;124mCUANTOS_TRABAJAN_GRUPO_FAM\u001b[39m\u001b[38;5;124m\"\u001b[39m,\u001b[38;5;124m\"\u001b[39m\u001b[38;5;124mCODIGO_REGION_DOMICILIO\u001b[39m\u001b[38;5;124m\"\u001b[39m]]\n\u001b[0;32m      4\u001b[0m df_soc \u001b[38;5;241m=\u001b[39m df_soc[df_soc[\u001b[38;5;124m\"\u001b[39m\u001b[38;5;124mCODIGO_REGION_DOMICILIO\u001b[39m\u001b[38;5;124m\"\u001b[39m] \u001b[38;5;241m==\u001b[39m \u001b[38;5;241m13\u001b[39m]\u001b[38;5;241m.\u001b[39mdrop(columns\u001b[38;5;241m=\u001b[39m\u001b[38;5;124m\"\u001b[39m\u001b[38;5;124mCODIGO_REGION_DOMICILIO\u001b[39m\u001b[38;5;124m\"\u001b[39m)\n",
      "File \u001b[1;32m~\\AppData\\Local\\Programs\\Python\\Python310\\lib\\site-packages\\pandas\\util\\_decorators.py:311\u001b[0m, in \u001b[0;36mdeprecate_nonkeyword_arguments.<locals>.decorate.<locals>.wrapper\u001b[1;34m(*args, **kwargs)\u001b[0m\n\u001b[0;32m    305\u001b[0m \u001b[38;5;28;01mif\u001b[39;00m \u001b[38;5;28mlen\u001b[39m(args) \u001b[38;5;241m>\u001b[39m num_allow_args:\n\u001b[0;32m    306\u001b[0m     warnings\u001b[38;5;241m.\u001b[39mwarn(\n\u001b[0;32m    307\u001b[0m         msg\u001b[38;5;241m.\u001b[39mformat(arguments\u001b[38;5;241m=\u001b[39marguments),\n\u001b[0;32m    308\u001b[0m         \u001b[38;5;167;01mFutureWarning\u001b[39;00m,\n\u001b[0;32m    309\u001b[0m         stacklevel\u001b[38;5;241m=\u001b[39mstacklevel,\n\u001b[0;32m    310\u001b[0m     )\n\u001b[1;32m--> 311\u001b[0m \u001b[38;5;28;01mreturn\u001b[39;00m func(\u001b[38;5;241m*\u001b[39margs, \u001b[38;5;241m*\u001b[39m\u001b[38;5;241m*\u001b[39mkwargs)\n",
      "File \u001b[1;32m~\\AppData\\Local\\Programs\\Python\\Python310\\lib\\site-packages\\pandas\\io\\parsers\\readers.py:680\u001b[0m, in \u001b[0;36mread_csv\u001b[1;34m(filepath_or_buffer, sep, delimiter, header, names, index_col, usecols, squeeze, prefix, mangle_dupe_cols, dtype, engine, converters, true_values, false_values, skipinitialspace, skiprows, skipfooter, nrows, na_values, keep_default_na, na_filter, verbose, skip_blank_lines, parse_dates, infer_datetime_format, keep_date_col, date_parser, dayfirst, cache_dates, iterator, chunksize, compression, thousands, decimal, lineterminator, quotechar, quoting, doublequote, escapechar, comment, encoding, encoding_errors, dialect, error_bad_lines, warn_bad_lines, on_bad_lines, delim_whitespace, low_memory, memory_map, float_precision, storage_options)\u001b[0m\n\u001b[0;32m    665\u001b[0m kwds_defaults \u001b[38;5;241m=\u001b[39m _refine_defaults_read(\n\u001b[0;32m    666\u001b[0m     dialect,\n\u001b[0;32m    667\u001b[0m     delimiter,\n\u001b[1;32m   (...)\u001b[0m\n\u001b[0;32m    676\u001b[0m     defaults\u001b[38;5;241m=\u001b[39m{\u001b[38;5;124m\"\u001b[39m\u001b[38;5;124mdelimiter\u001b[39m\u001b[38;5;124m\"\u001b[39m: \u001b[38;5;124m\"\u001b[39m\u001b[38;5;124m,\u001b[39m\u001b[38;5;124m\"\u001b[39m},\n\u001b[0;32m    677\u001b[0m )\n\u001b[0;32m    678\u001b[0m kwds\u001b[38;5;241m.\u001b[39mupdate(kwds_defaults)\n\u001b[1;32m--> 680\u001b[0m \u001b[38;5;28;01mreturn\u001b[39;00m \u001b[43m_read\u001b[49m\u001b[43m(\u001b[49m\u001b[43mfilepath_or_buffer\u001b[49m\u001b[43m,\u001b[49m\u001b[43m \u001b[49m\u001b[43mkwds\u001b[49m\u001b[43m)\u001b[49m\n",
      "File \u001b[1;32m~\\AppData\\Local\\Programs\\Python\\Python310\\lib\\site-packages\\pandas\\io\\parsers\\readers.py:575\u001b[0m, in \u001b[0;36m_read\u001b[1;34m(filepath_or_buffer, kwds)\u001b[0m\n\u001b[0;32m    572\u001b[0m _validate_names(kwds\u001b[38;5;241m.\u001b[39mget(\u001b[38;5;124m\"\u001b[39m\u001b[38;5;124mnames\u001b[39m\u001b[38;5;124m\"\u001b[39m, \u001b[38;5;28;01mNone\u001b[39;00m))\n\u001b[0;32m    574\u001b[0m \u001b[38;5;66;03m# Create the parser.\u001b[39;00m\n\u001b[1;32m--> 575\u001b[0m parser \u001b[38;5;241m=\u001b[39m TextFileReader(filepath_or_buffer, \u001b[38;5;241m*\u001b[39m\u001b[38;5;241m*\u001b[39mkwds)\n\u001b[0;32m    577\u001b[0m \u001b[38;5;28;01mif\u001b[39;00m chunksize \u001b[38;5;129;01mor\u001b[39;00m iterator:\n\u001b[0;32m    578\u001b[0m     \u001b[38;5;28;01mreturn\u001b[39;00m parser\n",
      "File \u001b[1;32m~\\AppData\\Local\\Programs\\Python\\Python310\\lib\\site-packages\\pandas\\io\\parsers\\readers.py:934\u001b[0m, in \u001b[0;36mTextFileReader.__init__\u001b[1;34m(self, f, engine, **kwds)\u001b[0m\n\u001b[0;32m    931\u001b[0m     \u001b[38;5;28mself\u001b[39m\u001b[38;5;241m.\u001b[39moptions[\u001b[38;5;124m\"\u001b[39m\u001b[38;5;124mhas_index_names\u001b[39m\u001b[38;5;124m\"\u001b[39m] \u001b[38;5;241m=\u001b[39m kwds[\u001b[38;5;124m\"\u001b[39m\u001b[38;5;124mhas_index_names\u001b[39m\u001b[38;5;124m\"\u001b[39m]\n\u001b[0;32m    933\u001b[0m \u001b[38;5;28mself\u001b[39m\u001b[38;5;241m.\u001b[39mhandles: IOHandles \u001b[38;5;241m|\u001b[39m \u001b[38;5;28;01mNone\u001b[39;00m \u001b[38;5;241m=\u001b[39m \u001b[38;5;28;01mNone\u001b[39;00m\n\u001b[1;32m--> 934\u001b[0m \u001b[38;5;28mself\u001b[39m\u001b[38;5;241m.\u001b[39m_engine \u001b[38;5;241m=\u001b[39m \u001b[38;5;28;43mself\u001b[39;49m\u001b[38;5;241;43m.\u001b[39;49m\u001b[43m_make_engine\u001b[49m\u001b[43m(\u001b[49m\u001b[43mf\u001b[49m\u001b[43m,\u001b[49m\u001b[43m \u001b[49m\u001b[38;5;28;43mself\u001b[39;49m\u001b[38;5;241;43m.\u001b[39;49m\u001b[43mengine\u001b[49m\u001b[43m)\u001b[49m\n",
      "File \u001b[1;32m~\\AppData\\Local\\Programs\\Python\\Python310\\lib\\site-packages\\pandas\\io\\parsers\\readers.py:1218\u001b[0m, in \u001b[0;36mTextFileReader._make_engine\u001b[1;34m(self, f, engine)\u001b[0m\n\u001b[0;32m   1214\u001b[0m     mode \u001b[38;5;241m=\u001b[39m \u001b[38;5;124m\"\u001b[39m\u001b[38;5;124mrb\u001b[39m\u001b[38;5;124m\"\u001b[39m\n\u001b[0;32m   1215\u001b[0m \u001b[38;5;66;03m# error: No overload variant of \"get_handle\" matches argument types\u001b[39;00m\n\u001b[0;32m   1216\u001b[0m \u001b[38;5;66;03m# \"Union[str, PathLike[str], ReadCsvBuffer[bytes], ReadCsvBuffer[str]]\"\u001b[39;00m\n\u001b[0;32m   1217\u001b[0m \u001b[38;5;66;03m# , \"str\", \"bool\", \"Any\", \"Any\", \"Any\", \"Any\", \"Any\"\u001b[39;00m\n\u001b[1;32m-> 1218\u001b[0m \u001b[38;5;28mself\u001b[39m\u001b[38;5;241m.\u001b[39mhandles \u001b[38;5;241m=\u001b[39m \u001b[43mget_handle\u001b[49m\u001b[43m(\u001b[49m\u001b[43m  \u001b[49m\u001b[38;5;66;43;03m# type: ignore[call-overload]\u001b[39;49;00m\n\u001b[0;32m   1219\u001b[0m \u001b[43m    \u001b[49m\u001b[43mf\u001b[49m\u001b[43m,\u001b[49m\n\u001b[0;32m   1220\u001b[0m \u001b[43m    \u001b[49m\u001b[43mmode\u001b[49m\u001b[43m,\u001b[49m\n\u001b[0;32m   1221\u001b[0m \u001b[43m    \u001b[49m\u001b[43mencoding\u001b[49m\u001b[38;5;241;43m=\u001b[39;49m\u001b[38;5;28;43mself\u001b[39;49m\u001b[38;5;241;43m.\u001b[39;49m\u001b[43moptions\u001b[49m\u001b[38;5;241;43m.\u001b[39;49m\u001b[43mget\u001b[49m\u001b[43m(\u001b[49m\u001b[38;5;124;43m\"\u001b[39;49m\u001b[38;5;124;43mencoding\u001b[39;49m\u001b[38;5;124;43m\"\u001b[39;49m\u001b[43m,\u001b[49m\u001b[43m \u001b[49m\u001b[38;5;28;43;01mNone\u001b[39;49;00m\u001b[43m)\u001b[49m\u001b[43m,\u001b[49m\n\u001b[0;32m   1222\u001b[0m \u001b[43m    \u001b[49m\u001b[43mcompression\u001b[49m\u001b[38;5;241;43m=\u001b[39;49m\u001b[38;5;28;43mself\u001b[39;49m\u001b[38;5;241;43m.\u001b[39;49m\u001b[43moptions\u001b[49m\u001b[38;5;241;43m.\u001b[39;49m\u001b[43mget\u001b[49m\u001b[43m(\u001b[49m\u001b[38;5;124;43m\"\u001b[39;49m\u001b[38;5;124;43mcompression\u001b[39;49m\u001b[38;5;124;43m\"\u001b[39;49m\u001b[43m,\u001b[49m\u001b[43m \u001b[49m\u001b[38;5;28;43;01mNone\u001b[39;49;00m\u001b[43m)\u001b[49m\u001b[43m,\u001b[49m\n\u001b[0;32m   1223\u001b[0m \u001b[43m    \u001b[49m\u001b[43mmemory_map\u001b[49m\u001b[38;5;241;43m=\u001b[39;49m\u001b[38;5;28;43mself\u001b[39;49m\u001b[38;5;241;43m.\u001b[39;49m\u001b[43moptions\u001b[49m\u001b[38;5;241;43m.\u001b[39;49m\u001b[43mget\u001b[49m\u001b[43m(\u001b[49m\u001b[38;5;124;43m\"\u001b[39;49m\u001b[38;5;124;43mmemory_map\u001b[39;49m\u001b[38;5;124;43m\"\u001b[39;49m\u001b[43m,\u001b[49m\u001b[43m \u001b[49m\u001b[38;5;28;43;01mFalse\u001b[39;49;00m\u001b[43m)\u001b[49m\u001b[43m,\u001b[49m\n\u001b[0;32m   1224\u001b[0m \u001b[43m    \u001b[49m\u001b[43mis_text\u001b[49m\u001b[38;5;241;43m=\u001b[39;49m\u001b[43mis_text\u001b[49m\u001b[43m,\u001b[49m\n\u001b[0;32m   1225\u001b[0m \u001b[43m    \u001b[49m\u001b[43merrors\u001b[49m\u001b[38;5;241;43m=\u001b[39;49m\u001b[38;5;28;43mself\u001b[39;49m\u001b[38;5;241;43m.\u001b[39;49m\u001b[43moptions\u001b[49m\u001b[38;5;241;43m.\u001b[39;49m\u001b[43mget\u001b[49m\u001b[43m(\u001b[49m\u001b[38;5;124;43m\"\u001b[39;49m\u001b[38;5;124;43mencoding_errors\u001b[39;49m\u001b[38;5;124;43m\"\u001b[39;49m\u001b[43m,\u001b[49m\u001b[43m \u001b[49m\u001b[38;5;124;43m\"\u001b[39;49m\u001b[38;5;124;43mstrict\u001b[39;49m\u001b[38;5;124;43m\"\u001b[39;49m\u001b[43m)\u001b[49m\u001b[43m,\u001b[49m\n\u001b[0;32m   1226\u001b[0m \u001b[43m    \u001b[49m\u001b[43mstorage_options\u001b[49m\u001b[38;5;241;43m=\u001b[39;49m\u001b[38;5;28;43mself\u001b[39;49m\u001b[38;5;241;43m.\u001b[39;49m\u001b[43moptions\u001b[49m\u001b[38;5;241;43m.\u001b[39;49m\u001b[43mget\u001b[49m\u001b[43m(\u001b[49m\u001b[38;5;124;43m\"\u001b[39;49m\u001b[38;5;124;43mstorage_options\u001b[39;49m\u001b[38;5;124;43m\"\u001b[39;49m\u001b[43m,\u001b[49m\u001b[43m \u001b[49m\u001b[38;5;28;43;01mNone\u001b[39;49;00m\u001b[43m)\u001b[49m\u001b[43m,\u001b[49m\n\u001b[0;32m   1227\u001b[0m \u001b[43m\u001b[49m\u001b[43m)\u001b[49m\n\u001b[0;32m   1228\u001b[0m \u001b[38;5;28;01massert\u001b[39;00m \u001b[38;5;28mself\u001b[39m\u001b[38;5;241m.\u001b[39mhandles \u001b[38;5;129;01mis\u001b[39;00m \u001b[38;5;129;01mnot\u001b[39;00m \u001b[38;5;28;01mNone\u001b[39;00m\n\u001b[0;32m   1229\u001b[0m f \u001b[38;5;241m=\u001b[39m \u001b[38;5;28mself\u001b[39m\u001b[38;5;241m.\u001b[39mhandles\u001b[38;5;241m.\u001b[39mhandle\n",
      "File \u001b[1;32m~\\AppData\\Local\\Programs\\Python\\Python310\\lib\\site-packages\\pandas\\io\\common.py:786\u001b[0m, in \u001b[0;36mget_handle\u001b[1;34m(path_or_buf, mode, encoding, compression, memory_map, is_text, errors, storage_options)\u001b[0m\n\u001b[0;32m    781\u001b[0m \u001b[38;5;28;01melif\u001b[39;00m \u001b[38;5;28misinstance\u001b[39m(handle, \u001b[38;5;28mstr\u001b[39m):\n\u001b[0;32m    782\u001b[0m     \u001b[38;5;66;03m# Check whether the filename is to be opened in binary mode.\u001b[39;00m\n\u001b[0;32m    783\u001b[0m     \u001b[38;5;66;03m# Binary mode does not support 'encoding' and 'newline'.\u001b[39;00m\n\u001b[0;32m    784\u001b[0m     \u001b[38;5;28;01mif\u001b[39;00m ioargs\u001b[38;5;241m.\u001b[39mencoding \u001b[38;5;129;01mand\u001b[39;00m \u001b[38;5;124m\"\u001b[39m\u001b[38;5;124mb\u001b[39m\u001b[38;5;124m\"\u001b[39m \u001b[38;5;129;01mnot\u001b[39;00m \u001b[38;5;129;01min\u001b[39;00m ioargs\u001b[38;5;241m.\u001b[39mmode:\n\u001b[0;32m    785\u001b[0m         \u001b[38;5;66;03m# Encoding\u001b[39;00m\n\u001b[1;32m--> 786\u001b[0m         handle \u001b[38;5;241m=\u001b[39m \u001b[38;5;28;43mopen\u001b[39;49m\u001b[43m(\u001b[49m\n\u001b[0;32m    787\u001b[0m \u001b[43m            \u001b[49m\u001b[43mhandle\u001b[49m\u001b[43m,\u001b[49m\n\u001b[0;32m    788\u001b[0m \u001b[43m            \u001b[49m\u001b[43mioargs\u001b[49m\u001b[38;5;241;43m.\u001b[39;49m\u001b[43mmode\u001b[49m\u001b[43m,\u001b[49m\n\u001b[0;32m    789\u001b[0m \u001b[43m            \u001b[49m\u001b[43mencoding\u001b[49m\u001b[38;5;241;43m=\u001b[39;49m\u001b[43mioargs\u001b[49m\u001b[38;5;241;43m.\u001b[39;49m\u001b[43mencoding\u001b[49m\u001b[43m,\u001b[49m\n\u001b[0;32m    790\u001b[0m \u001b[43m            \u001b[49m\u001b[43merrors\u001b[49m\u001b[38;5;241;43m=\u001b[39;49m\u001b[43merrors\u001b[49m\u001b[43m,\u001b[49m\n\u001b[0;32m    791\u001b[0m \u001b[43m            \u001b[49m\u001b[43mnewline\u001b[49m\u001b[38;5;241;43m=\u001b[39;49m\u001b[38;5;124;43m\"\u001b[39;49m\u001b[38;5;124;43m\"\u001b[39;49m\u001b[43m,\u001b[49m\n\u001b[0;32m    792\u001b[0m \u001b[43m        \u001b[49m\u001b[43m)\u001b[49m\n\u001b[0;32m    793\u001b[0m     \u001b[38;5;28;01melse\u001b[39;00m:\n\u001b[0;32m    794\u001b[0m         \u001b[38;5;66;03m# Binary mode\u001b[39;00m\n\u001b[0;32m    795\u001b[0m         handle \u001b[38;5;241m=\u001b[39m \u001b[38;5;28mopen\u001b[39m(handle, ioargs\u001b[38;5;241m.\u001b[39mmode)\n",
      "\u001b[1;31mFileNotFoundError\u001b[0m: [Errno 2] No such file or directory: 'Dataframes/Socioeconomico_2022.csv'"
     ]
    }
   ],
   "source": [
    "df_soc = pd.read_csv(\"Dataframes/Socioeconomico_2022.csv\", delimiter=\";\")\n",
    "df_soc = df_soc[[\"NOMBRE_COMUNA_DOMICILIO\",\"INGRESO_PERCAPITA_GRUPO_FA\",\"CUANTOS_TRABAJAN_GRUPO_FAM\",\"CODIGO_REGION_DOMICILIO\"]]\n",
    "\n",
    "df_soc = df_soc[df_soc[\"CODIGO_REGION_DOMICILIO\"] == 13].drop(columns=\"CODIGO_REGION_DOMICILIO\")\n",
    "\n",
    "df_soc.rename(columns={\"NOMBRE_COMUNA_DOMICILIO\": \"COMUNA\", \"INGRESO_PERCAPITA_GRUPO_FA\":\"INGRESOS\", \"CUANTOS_TRABAJAN_GRUPO_FAM\": \"N_TRABAJAN\"}, inplace=True)\n",
    "df_soc[\"INGRESOS\"] = df_soc[\"INGRESOS\"].replace(\"99\", np.nan)\n",
    "df_soc[\"INGRESOS\"] = df_soc[\"INGRESOS\"].replace(\" \", np.nan)\n",
    "df_soc.INGRESOS = df_soc.INGRESOS.astype(\"float32\")\n",
    "\n",
    "\n",
    "df_soc[\"N_TRABAJAN\"] = df_soc[\"N_TRABAJAN\"].replace(16, 0)\n",
    "df_soc[\"N_TRABAJAN\"] = df_soc[\"N_TRABAJAN\"].replace(99, np.nan)\n",
    "\n",
    "df_soc_grande = df_soc.copy(deep=True)\n",
    "\n",
    "df_soc_median = df_soc.groupby(by=\"COMUNA\").median()\n",
    "\n",
    "df_soc_median.head()"
   ]
  },
  {
   "cell_type": "code",
   "execution_count": 13,
   "id": "2ada8854",
   "metadata": {},
   "outputs": [
    {
     "ename": "FileNotFoundError",
     "evalue": "[Errno 2] No such file or directory: 'Dataframes/Puntajes_2022.csv'",
     "output_type": "error",
     "traceback": [
      "\u001b[1;31m---------------------------------------------------------------------------\u001b[0m",
      "\u001b[1;31mFileNotFoundError\u001b[0m                         Traceback (most recent call last)",
      "Cell \u001b[1;32mIn [13], line 1\u001b[0m\n\u001b[1;32m----> 1\u001b[0m df \u001b[38;5;241m=\u001b[39m \u001b[43mpd\u001b[49m\u001b[38;5;241;43m.\u001b[39;49m\u001b[43mread_csv\u001b[49m\u001b[43m(\u001b[49m\u001b[38;5;124;43m\"\u001b[39;49m\u001b[38;5;124;43mDataframes/Puntajes_2022.csv\u001b[39;49m\u001b[38;5;124;43m\"\u001b[39;49m\u001b[43m,\u001b[49m\u001b[43m \u001b[49m\u001b[43mdelimiter\u001b[49m\u001b[38;5;241;43m=\u001b[39;49m\u001b[38;5;124;43m\"\u001b[39;49m\u001b[38;5;124;43m;\u001b[39;49m\u001b[38;5;124;43m\"\u001b[39;49m\u001b[43m)\u001b[49m\n\u001b[0;32m      2\u001b[0m df[df\u001b[38;5;241m.\u001b[39mCLEC_ACTUAL \u001b[38;5;241m==\u001b[39m \u001b[38;5;124m\"\u001b[39m\u001b[38;5;124m \u001b[39m\u001b[38;5;124m\"\u001b[39m]\n\u001b[0;32m      3\u001b[0m df\u001b[38;5;241m.\u001b[39mcolumns\n",
      "File \u001b[1;32m~\\AppData\\Local\\Programs\\Python\\Python310\\lib\\site-packages\\pandas\\util\\_decorators.py:311\u001b[0m, in \u001b[0;36mdeprecate_nonkeyword_arguments.<locals>.decorate.<locals>.wrapper\u001b[1;34m(*args, **kwargs)\u001b[0m\n\u001b[0;32m    305\u001b[0m \u001b[38;5;28;01mif\u001b[39;00m \u001b[38;5;28mlen\u001b[39m(args) \u001b[38;5;241m>\u001b[39m num_allow_args:\n\u001b[0;32m    306\u001b[0m     warnings\u001b[38;5;241m.\u001b[39mwarn(\n\u001b[0;32m    307\u001b[0m         msg\u001b[38;5;241m.\u001b[39mformat(arguments\u001b[38;5;241m=\u001b[39marguments),\n\u001b[0;32m    308\u001b[0m         \u001b[38;5;167;01mFutureWarning\u001b[39;00m,\n\u001b[0;32m    309\u001b[0m         stacklevel\u001b[38;5;241m=\u001b[39mstacklevel,\n\u001b[0;32m    310\u001b[0m     )\n\u001b[1;32m--> 311\u001b[0m \u001b[38;5;28;01mreturn\u001b[39;00m func(\u001b[38;5;241m*\u001b[39margs, \u001b[38;5;241m*\u001b[39m\u001b[38;5;241m*\u001b[39mkwargs)\n",
      "File \u001b[1;32m~\\AppData\\Local\\Programs\\Python\\Python310\\lib\\site-packages\\pandas\\io\\parsers\\readers.py:680\u001b[0m, in \u001b[0;36mread_csv\u001b[1;34m(filepath_or_buffer, sep, delimiter, header, names, index_col, usecols, squeeze, prefix, mangle_dupe_cols, dtype, engine, converters, true_values, false_values, skipinitialspace, skiprows, skipfooter, nrows, na_values, keep_default_na, na_filter, verbose, skip_blank_lines, parse_dates, infer_datetime_format, keep_date_col, date_parser, dayfirst, cache_dates, iterator, chunksize, compression, thousands, decimal, lineterminator, quotechar, quoting, doublequote, escapechar, comment, encoding, encoding_errors, dialect, error_bad_lines, warn_bad_lines, on_bad_lines, delim_whitespace, low_memory, memory_map, float_precision, storage_options)\u001b[0m\n\u001b[0;32m    665\u001b[0m kwds_defaults \u001b[38;5;241m=\u001b[39m _refine_defaults_read(\n\u001b[0;32m    666\u001b[0m     dialect,\n\u001b[0;32m    667\u001b[0m     delimiter,\n\u001b[1;32m   (...)\u001b[0m\n\u001b[0;32m    676\u001b[0m     defaults\u001b[38;5;241m=\u001b[39m{\u001b[38;5;124m\"\u001b[39m\u001b[38;5;124mdelimiter\u001b[39m\u001b[38;5;124m\"\u001b[39m: \u001b[38;5;124m\"\u001b[39m\u001b[38;5;124m,\u001b[39m\u001b[38;5;124m\"\u001b[39m},\n\u001b[0;32m    677\u001b[0m )\n\u001b[0;32m    678\u001b[0m kwds\u001b[38;5;241m.\u001b[39mupdate(kwds_defaults)\n\u001b[1;32m--> 680\u001b[0m \u001b[38;5;28;01mreturn\u001b[39;00m \u001b[43m_read\u001b[49m\u001b[43m(\u001b[49m\u001b[43mfilepath_or_buffer\u001b[49m\u001b[43m,\u001b[49m\u001b[43m \u001b[49m\u001b[43mkwds\u001b[49m\u001b[43m)\u001b[49m\n",
      "File \u001b[1;32m~\\AppData\\Local\\Programs\\Python\\Python310\\lib\\site-packages\\pandas\\io\\parsers\\readers.py:575\u001b[0m, in \u001b[0;36m_read\u001b[1;34m(filepath_or_buffer, kwds)\u001b[0m\n\u001b[0;32m    572\u001b[0m _validate_names(kwds\u001b[38;5;241m.\u001b[39mget(\u001b[38;5;124m\"\u001b[39m\u001b[38;5;124mnames\u001b[39m\u001b[38;5;124m\"\u001b[39m, \u001b[38;5;28;01mNone\u001b[39;00m))\n\u001b[0;32m    574\u001b[0m \u001b[38;5;66;03m# Create the parser.\u001b[39;00m\n\u001b[1;32m--> 575\u001b[0m parser \u001b[38;5;241m=\u001b[39m TextFileReader(filepath_or_buffer, \u001b[38;5;241m*\u001b[39m\u001b[38;5;241m*\u001b[39mkwds)\n\u001b[0;32m    577\u001b[0m \u001b[38;5;28;01mif\u001b[39;00m chunksize \u001b[38;5;129;01mor\u001b[39;00m iterator:\n\u001b[0;32m    578\u001b[0m     \u001b[38;5;28;01mreturn\u001b[39;00m parser\n",
      "File \u001b[1;32m~\\AppData\\Local\\Programs\\Python\\Python310\\lib\\site-packages\\pandas\\io\\parsers\\readers.py:934\u001b[0m, in \u001b[0;36mTextFileReader.__init__\u001b[1;34m(self, f, engine, **kwds)\u001b[0m\n\u001b[0;32m    931\u001b[0m     \u001b[38;5;28mself\u001b[39m\u001b[38;5;241m.\u001b[39moptions[\u001b[38;5;124m\"\u001b[39m\u001b[38;5;124mhas_index_names\u001b[39m\u001b[38;5;124m\"\u001b[39m] \u001b[38;5;241m=\u001b[39m kwds[\u001b[38;5;124m\"\u001b[39m\u001b[38;5;124mhas_index_names\u001b[39m\u001b[38;5;124m\"\u001b[39m]\n\u001b[0;32m    933\u001b[0m \u001b[38;5;28mself\u001b[39m\u001b[38;5;241m.\u001b[39mhandles: IOHandles \u001b[38;5;241m|\u001b[39m \u001b[38;5;28;01mNone\u001b[39;00m \u001b[38;5;241m=\u001b[39m \u001b[38;5;28;01mNone\u001b[39;00m\n\u001b[1;32m--> 934\u001b[0m \u001b[38;5;28mself\u001b[39m\u001b[38;5;241m.\u001b[39m_engine \u001b[38;5;241m=\u001b[39m \u001b[38;5;28;43mself\u001b[39;49m\u001b[38;5;241;43m.\u001b[39;49m\u001b[43m_make_engine\u001b[49m\u001b[43m(\u001b[49m\u001b[43mf\u001b[49m\u001b[43m,\u001b[49m\u001b[43m \u001b[49m\u001b[38;5;28;43mself\u001b[39;49m\u001b[38;5;241;43m.\u001b[39;49m\u001b[43mengine\u001b[49m\u001b[43m)\u001b[49m\n",
      "File \u001b[1;32m~\\AppData\\Local\\Programs\\Python\\Python310\\lib\\site-packages\\pandas\\io\\parsers\\readers.py:1218\u001b[0m, in \u001b[0;36mTextFileReader._make_engine\u001b[1;34m(self, f, engine)\u001b[0m\n\u001b[0;32m   1214\u001b[0m     mode \u001b[38;5;241m=\u001b[39m \u001b[38;5;124m\"\u001b[39m\u001b[38;5;124mrb\u001b[39m\u001b[38;5;124m\"\u001b[39m\n\u001b[0;32m   1215\u001b[0m \u001b[38;5;66;03m# error: No overload variant of \"get_handle\" matches argument types\u001b[39;00m\n\u001b[0;32m   1216\u001b[0m \u001b[38;5;66;03m# \"Union[str, PathLike[str], ReadCsvBuffer[bytes], ReadCsvBuffer[str]]\"\u001b[39;00m\n\u001b[0;32m   1217\u001b[0m \u001b[38;5;66;03m# , \"str\", \"bool\", \"Any\", \"Any\", \"Any\", \"Any\", \"Any\"\u001b[39;00m\n\u001b[1;32m-> 1218\u001b[0m \u001b[38;5;28mself\u001b[39m\u001b[38;5;241m.\u001b[39mhandles \u001b[38;5;241m=\u001b[39m \u001b[43mget_handle\u001b[49m\u001b[43m(\u001b[49m\u001b[43m  \u001b[49m\u001b[38;5;66;43;03m# type: ignore[call-overload]\u001b[39;49;00m\n\u001b[0;32m   1219\u001b[0m \u001b[43m    \u001b[49m\u001b[43mf\u001b[49m\u001b[43m,\u001b[49m\n\u001b[0;32m   1220\u001b[0m \u001b[43m    \u001b[49m\u001b[43mmode\u001b[49m\u001b[43m,\u001b[49m\n\u001b[0;32m   1221\u001b[0m \u001b[43m    \u001b[49m\u001b[43mencoding\u001b[49m\u001b[38;5;241;43m=\u001b[39;49m\u001b[38;5;28;43mself\u001b[39;49m\u001b[38;5;241;43m.\u001b[39;49m\u001b[43moptions\u001b[49m\u001b[38;5;241;43m.\u001b[39;49m\u001b[43mget\u001b[49m\u001b[43m(\u001b[49m\u001b[38;5;124;43m\"\u001b[39;49m\u001b[38;5;124;43mencoding\u001b[39;49m\u001b[38;5;124;43m\"\u001b[39;49m\u001b[43m,\u001b[49m\u001b[43m \u001b[49m\u001b[38;5;28;43;01mNone\u001b[39;49;00m\u001b[43m)\u001b[49m\u001b[43m,\u001b[49m\n\u001b[0;32m   1222\u001b[0m \u001b[43m    \u001b[49m\u001b[43mcompression\u001b[49m\u001b[38;5;241;43m=\u001b[39;49m\u001b[38;5;28;43mself\u001b[39;49m\u001b[38;5;241;43m.\u001b[39;49m\u001b[43moptions\u001b[49m\u001b[38;5;241;43m.\u001b[39;49m\u001b[43mget\u001b[49m\u001b[43m(\u001b[49m\u001b[38;5;124;43m\"\u001b[39;49m\u001b[38;5;124;43mcompression\u001b[39;49m\u001b[38;5;124;43m\"\u001b[39;49m\u001b[43m,\u001b[49m\u001b[43m \u001b[49m\u001b[38;5;28;43;01mNone\u001b[39;49;00m\u001b[43m)\u001b[49m\u001b[43m,\u001b[49m\n\u001b[0;32m   1223\u001b[0m \u001b[43m    \u001b[49m\u001b[43mmemory_map\u001b[49m\u001b[38;5;241;43m=\u001b[39;49m\u001b[38;5;28;43mself\u001b[39;49m\u001b[38;5;241;43m.\u001b[39;49m\u001b[43moptions\u001b[49m\u001b[38;5;241;43m.\u001b[39;49m\u001b[43mget\u001b[49m\u001b[43m(\u001b[49m\u001b[38;5;124;43m\"\u001b[39;49m\u001b[38;5;124;43mmemory_map\u001b[39;49m\u001b[38;5;124;43m\"\u001b[39;49m\u001b[43m,\u001b[49m\u001b[43m \u001b[49m\u001b[38;5;28;43;01mFalse\u001b[39;49;00m\u001b[43m)\u001b[49m\u001b[43m,\u001b[49m\n\u001b[0;32m   1224\u001b[0m \u001b[43m    \u001b[49m\u001b[43mis_text\u001b[49m\u001b[38;5;241;43m=\u001b[39;49m\u001b[43mis_text\u001b[49m\u001b[43m,\u001b[49m\n\u001b[0;32m   1225\u001b[0m \u001b[43m    \u001b[49m\u001b[43merrors\u001b[49m\u001b[38;5;241;43m=\u001b[39;49m\u001b[38;5;28;43mself\u001b[39;49m\u001b[38;5;241;43m.\u001b[39;49m\u001b[43moptions\u001b[49m\u001b[38;5;241;43m.\u001b[39;49m\u001b[43mget\u001b[49m\u001b[43m(\u001b[49m\u001b[38;5;124;43m\"\u001b[39;49m\u001b[38;5;124;43mencoding_errors\u001b[39;49m\u001b[38;5;124;43m\"\u001b[39;49m\u001b[43m,\u001b[49m\u001b[43m \u001b[49m\u001b[38;5;124;43m\"\u001b[39;49m\u001b[38;5;124;43mstrict\u001b[39;49m\u001b[38;5;124;43m\"\u001b[39;49m\u001b[43m)\u001b[49m\u001b[43m,\u001b[49m\n\u001b[0;32m   1226\u001b[0m \u001b[43m    \u001b[49m\u001b[43mstorage_options\u001b[49m\u001b[38;5;241;43m=\u001b[39;49m\u001b[38;5;28;43mself\u001b[39;49m\u001b[38;5;241;43m.\u001b[39;49m\u001b[43moptions\u001b[49m\u001b[38;5;241;43m.\u001b[39;49m\u001b[43mget\u001b[49m\u001b[43m(\u001b[49m\u001b[38;5;124;43m\"\u001b[39;49m\u001b[38;5;124;43mstorage_options\u001b[39;49m\u001b[38;5;124;43m\"\u001b[39;49m\u001b[43m,\u001b[49m\u001b[43m \u001b[49m\u001b[38;5;28;43;01mNone\u001b[39;49;00m\u001b[43m)\u001b[49m\u001b[43m,\u001b[49m\n\u001b[0;32m   1227\u001b[0m \u001b[43m\u001b[49m\u001b[43m)\u001b[49m\n\u001b[0;32m   1228\u001b[0m \u001b[38;5;28;01massert\u001b[39;00m \u001b[38;5;28mself\u001b[39m\u001b[38;5;241m.\u001b[39mhandles \u001b[38;5;129;01mis\u001b[39;00m \u001b[38;5;129;01mnot\u001b[39;00m \u001b[38;5;28;01mNone\u001b[39;00m\n\u001b[0;32m   1229\u001b[0m f \u001b[38;5;241m=\u001b[39m \u001b[38;5;28mself\u001b[39m\u001b[38;5;241m.\u001b[39mhandles\u001b[38;5;241m.\u001b[39mhandle\n",
      "File \u001b[1;32m~\\AppData\\Local\\Programs\\Python\\Python310\\lib\\site-packages\\pandas\\io\\common.py:786\u001b[0m, in \u001b[0;36mget_handle\u001b[1;34m(path_or_buf, mode, encoding, compression, memory_map, is_text, errors, storage_options)\u001b[0m\n\u001b[0;32m    781\u001b[0m \u001b[38;5;28;01melif\u001b[39;00m \u001b[38;5;28misinstance\u001b[39m(handle, \u001b[38;5;28mstr\u001b[39m):\n\u001b[0;32m    782\u001b[0m     \u001b[38;5;66;03m# Check whether the filename is to be opened in binary mode.\u001b[39;00m\n\u001b[0;32m    783\u001b[0m     \u001b[38;5;66;03m# Binary mode does not support 'encoding' and 'newline'.\u001b[39;00m\n\u001b[0;32m    784\u001b[0m     \u001b[38;5;28;01mif\u001b[39;00m ioargs\u001b[38;5;241m.\u001b[39mencoding \u001b[38;5;129;01mand\u001b[39;00m \u001b[38;5;124m\"\u001b[39m\u001b[38;5;124mb\u001b[39m\u001b[38;5;124m\"\u001b[39m \u001b[38;5;129;01mnot\u001b[39;00m \u001b[38;5;129;01min\u001b[39;00m ioargs\u001b[38;5;241m.\u001b[39mmode:\n\u001b[0;32m    785\u001b[0m         \u001b[38;5;66;03m# Encoding\u001b[39;00m\n\u001b[1;32m--> 786\u001b[0m         handle \u001b[38;5;241m=\u001b[39m \u001b[38;5;28;43mopen\u001b[39;49m\u001b[43m(\u001b[49m\n\u001b[0;32m    787\u001b[0m \u001b[43m            \u001b[49m\u001b[43mhandle\u001b[49m\u001b[43m,\u001b[49m\n\u001b[0;32m    788\u001b[0m \u001b[43m            \u001b[49m\u001b[43mioargs\u001b[49m\u001b[38;5;241;43m.\u001b[39;49m\u001b[43mmode\u001b[49m\u001b[43m,\u001b[49m\n\u001b[0;32m    789\u001b[0m \u001b[43m            \u001b[49m\u001b[43mencoding\u001b[49m\u001b[38;5;241;43m=\u001b[39;49m\u001b[43mioargs\u001b[49m\u001b[38;5;241;43m.\u001b[39;49m\u001b[43mencoding\u001b[49m\u001b[43m,\u001b[49m\n\u001b[0;32m    790\u001b[0m \u001b[43m            \u001b[49m\u001b[43merrors\u001b[49m\u001b[38;5;241;43m=\u001b[39;49m\u001b[43merrors\u001b[49m\u001b[43m,\u001b[49m\n\u001b[0;32m    791\u001b[0m \u001b[43m            \u001b[49m\u001b[43mnewline\u001b[49m\u001b[38;5;241;43m=\u001b[39;49m\u001b[38;5;124;43m\"\u001b[39;49m\u001b[38;5;124;43m\"\u001b[39;49m\u001b[43m,\u001b[49m\n\u001b[0;32m    792\u001b[0m \u001b[43m        \u001b[49m\u001b[43m)\u001b[49m\n\u001b[0;32m    793\u001b[0m     \u001b[38;5;28;01melse\u001b[39;00m:\n\u001b[0;32m    794\u001b[0m         \u001b[38;5;66;03m# Binary mode\u001b[39;00m\n\u001b[0;32m    795\u001b[0m         handle \u001b[38;5;241m=\u001b[39m \u001b[38;5;28mopen\u001b[39m(handle, ioargs\u001b[38;5;241m.\u001b[39mmode)\n",
      "\u001b[1;31mFileNotFoundError\u001b[0m: [Errno 2] No such file or directory: 'Dataframes/Puntajes_2022.csv'"
     ]
    }
   ],
   "source": [
    "df = pd.read_csv(\"Dataframes/Puntajes_2022.csv\", delimiter=\";\")\n",
    "df[df.CLEC_ACTUAL == \" \"]\n",
    "df.columns"
   ]
  },
  {
   "cell_type": "code",
   "execution_count": null,
   "id": "cbd356c5",
   "metadata": {},
   "outputs": [],
   "source": [
    "df_puntajes = df[[\"PROMEDIO_NOTAS\", \"PTJE_RANKING\", \"CLEC_ACTUAL\", \"MATE_ACTUAL\", \"HCSO_ACTUAL\", \"CIEN_ACTUAL\", \"NOMBRE_COMUNA_EGRESO\", \"ANYO_DE_EGRESO\", \"CODIGO_REGION_EGRESO\"]]\n",
    "df_puntajes = df_puntajes[df_puntajes[\"CODIGO_REGION_EGRESO\"] == 13]\n",
    "df_puntajes = df_puntajes[df_puntajes[\"ANYO_DE_EGRESO\"] == 2021].reset_index().drop(columns=[\"CODIGO_REGION_EGRESO\", \"ANYO_DE_EGRESO\", \"index\"])\n",
    "df_puntajes.info()\n",
    "df_puntajes.head()"
   ]
  },
  {
   "cell_type": "code",
   "execution_count": null,
   "id": "a531dc10",
   "metadata": {},
   "outputs": [],
   "source": [
    "l = [\"CLEC_ACTUAL\", \"MATE_ACTUAL\", \"HCSO_ACTUAL\",\"CIEN_ACTUAL\"]\n",
    "for col in l:\n",
    "    df_puntajes[col] = df_puntajes[col].replace(\" \", np.nan)\n",
    "\n",
    "    df_puntajes[col] = df_puntajes[col].replace(\"0\", np.nan)\n",
    "\n",
    "\n",
    "df_puntajes[\"PROMEDIO_NOTAS\"] = df_puntajes[\"PROMEDIO_NOTAS\"].replace(\" \", np.nan)\n",
    "df_puntajes['PROMEDIO_NOTAS'] = df_puntajes['PROMEDIO_NOTAS'].str.replace(',', '.')\n",
    "df_puntajes = df_puntajes.astype({\"CLEC_ACTUAL\": \"float32\",\"MATE_ACTUAL\": \"float32\",\"HCSO_ACTUAL\": \"float32\",\"CIEN_ACTUAL\": \"float32\", \"NOMBRE_COMUNA_EGRESO\": \"category\", \"PROMEDIO_NOTAS\": \"float32\"})\n",
    "df_puntajes_grande = df_puntajes\n",
    "df_puntajes.head()"
   ]
  },
  {
   "cell_type": "code",
   "execution_count": null,
   "id": "fa0a83a4",
   "metadata": {},
   "outputs": [],
   "source": [
    "df_promedio = df_puntajes.groupby(by=\"NOMBRE_COMUNA_EGRESO\").mean()\n",
    "df_promedio.reset_index(inplace=True)\n",
    "df_promedio = df_promedio.rename(columns={\"NOMBRE_COMUNA_EGRESO\":\"COMUNA\", \"PTJE_RANKING\" : \"RANKING\", \"PROMEDIO_NOTAS\": \"NEM\", \"CLEC_ACTUAL\": \"LENGUAJE\", \"MATE_ACTUAL\": \"MATEMATICAS\", \"HCSO_ACTUAL\" :\"HISTORIA\", \"CIEN_ACTUAL\": \"CIENCIAS\"})\n",
    "#df_promedio.to_csv(\"Dataframes/promedio_puntajes_pdt.csv\", sep=\",\", index=False)\n"
   ]
  },
  {
   "cell_type": "code",
   "execution_count": null,
   "id": "50ba5456",
   "metadata": {},
   "outputs": [],
   "source": [
    "df_soc.head()"
   ]
  },
  {
   "cell_type": "code",
   "execution_count": null,
   "id": "750906e6",
   "metadata": {},
   "outputs": [],
   "source": [
    "df_todo = df_promedio.merge(df_soc, on=\"COMUNA\")\n",
    "df_todo_grande = df_promedio.merge(df_soc_grande, on=\"COMUNA\")\n",
    "df_todo_grande.head()\n",
    "df_todo_grande.to_csv(\"Dataframes/promedio_puntajes_pdt.csv\", sep=\",\", index=False)"
   ]
  },
  {
   "cell_type": "code",
   "execution_count": null,
   "id": "9c18a93c",
   "metadata": {},
   "outputs": [],
   "source": [
    "f, ax = plt.subplots(1,6, figsize=(20,10), sharey=True)\n",
    "sns.set(font_scale=1)\n",
    "cols = df_promedio.columns[1:]\n",
    "f.suptitle(\"PROMEDIO DE PUNTAJES POR COMUNA\")\n",
    "f.tight_layout()\n",
    "ax[0].set_xlim(5,6.5)\n",
    "ax[0].axvline(5.5)\n",
    "for i in range(0,6):\n",
    "    if i != 0:\n",
    "        ax[i].yaxis.set_visible(False)\n",
    "        ax[i].set_xlim(350,750)\n",
    "        ax[i].axvline(650)\n",
    "        ax[i].axvline(600)\n",
    "        ax[i].axvline(550)\n",
    "        ax[i].axvline(500)\n",
    "    sns.barplot(df_promedio, y=\"COMUNA\", x=cols[i], ax=ax[i],width=1)"
   ]
  },
  {
   "cell_type": "code",
   "execution_count": null,
   "id": "5b79519e",
   "metadata": {},
   "outputs": [],
   "source": [
    "comunas_rm = comunas[comunas[\"REGION\"] == \"Metropolitana de Santiago\"].reset_index()\n",
    "comunas_rm = comunas_rm[[\"COMUNA\", \"geometry\"]]\n",
    "comunas_rm.COMUNA = comunas_rm.COMUNA.map(lambda x:limpiar(x).upper())\n",
    "comunas_rm.head()"
   ]
  },
  {
   "cell_type": "code",
   "execution_count": null,
   "id": "46573d97",
   "metadata": {},
   "outputs": [],
   "source": [
    "prom_rm = df_todo.merge(comunas_rm, on=\"COMUNA\")\n",
    "prom_rm = gpd.GeoDataFrame(prom_rm)\n",
    "prom_rm.head()"
   ]
  },
  {
   "cell_type": "code",
   "execution_count": null,
   "id": "f9ee4546",
   "metadata": {},
   "outputs": [],
   "source": [
    "f, ax = plt.subplots(2,4, figsize=(20,10))\n",
    "cols = prom_rm.columns[1:9]\n",
    "f.suptitle(\"POR COMUNA\")\n",
    "for i in range(0,2):\n",
    "    for j in range(0,4):\n",
    "        ax[i][j].margins(0.0001, 0.0001)\n",
    "        ax[i][j].set_axis_off()\n",
    "        ax[i][j].set_title(cols[i*4+j])\n",
    "        print(cols[i*4+j])\n",
    "        prom_rm.plot(column=cols[i*4+j], legend=True, ax=ax[i][j], legend_kwds={'orientation': \"horizontal\"})"
   ]
  },
  {
   "cell_type": "markdown",
   "id": "55aa97c2",
   "metadata": {},
   "source": [
    "**Dataframe de asistencia y promedio por comuna **"
   ]
  },
  {
   "cell_type": "code",
   "execution_count": null,
   "id": "37d1e2c9",
   "metadata": {},
   "outputs": [],
   "source": [
    "df_rendimiento = pd.read_csv('Dataframes/20220302_Rendimiento_2021_20220131_WEB.csv', sep = ';',  decimal=\",\")\n",
    "df_rendimiento"
   ]
  },
  {
   "cell_type": "code",
   "execution_count": null,
   "id": "02e2e03f",
   "metadata": {},
   "outputs": [],
   "source": [
    "#Este codigo genera el dataframe filtrado del rendimiento\n",
    "df_rendimiento = df_rendimiento[df_rendimiento['EDAD_ALU'] != ' ']\n",
    "df_rendimiento_rm = df_rendimiento[df_rendimiento.COD_REG_RBD == 13]\n",
    "df_rendimiento_rm = df_rendimiento_rm.loc[(df_rendimiento.EDAD_ALU == 18) | (df_rendimiento.EDAD_ALU == 17)]\n",
    "df_rendimiento_rm_promedio = df_rendimiento_rm.groupby('NOM_COM_RBD').mean().reset_index()\n",
    "df_rendimiento_rm_promedio = df_rendimiento_rm_promedio[['COD_COM_RBD','COD_DEPE2' ,'PROM_GRAL', 'ASISTENCIA']]\n",
    "comunas = df_rendimiento[['COD_COM_RBD', 'NOM_COM_RBD']]\n",
    "df_final_filtrado = pd.merge(df_rendimiento_rm_promedio, comunas, on = 'COD_COM_RBD')\n",
    "df_final_filtrado = df_final_filtrado.drop_duplicates().reset_index()\n",
    "df_final_filtrado = df_final_filtrado[['COD_COM_RBD','COD_DEPE2','PROM_GRAL','ASISTENCIA','NOM_COM_RBD']]\n",
    "df_final_filtrado"
   ]
  },
  {
   "cell_type": "code",
   "execution_count": null,
   "id": "ce37d8b4",
   "metadata": {},
   "outputs": [],
   "source": [
    "df_final_filtrado.to_csv('Dataframes/rendimiento_promedio_filtrado_2021.csv',index = False)"
   ]
  },
  {
   "cell_type": "markdown",
   "id": "66eed65c",
   "metadata": {},
   "source": [
    "**Analisis exploratorio de datos**"
   ]
  },
  {
   "cell_type": "code",
   "execution_count": null,
   "id": "a154c949",
   "metadata": {},
   "outputs": [],
   "source": [
    "df_filtrado_ploteable = df_final_filtrado[['NOM_COM_RBD', 'ASISTENCIA', 'PROM_GRAL']]\n",
    "df_filtrado_ploteable=df_filtrado_ploteable.rename(columns = {'NOM_COM_RBD':'COMUNA'})\n",
    "df_filtrado_ploteable"
   ]
  },
  {
   "cell_type": "markdown",
   "id": "416b3819",
   "metadata": {},
   "source": [
    "Notamos que si bien las comunas con mas ingresos son aquellas que estan en el intervalo mas alto de calificaciones en promedio, no necesariamente eso significa que sea debido a la cantidad de ingresos ya que existen otras comunas de menores ingresos que tambien poseen resultados altos."
   ]
  },
  {
   "cell_type": "code",
   "execution_count": null,
   "id": "06a6a464",
   "metadata": {},
   "outputs": [],
   "source": [
    "f, ax = plt.subplots(1,2, figsize=(20,20), sharey=True)\n",
    "sns.set(font_scale=1)\n",
    "cols = df_filtrado_ploteable.columns[1:]\n",
    "f.suptitle(\"PROMEDIO DE NOTAS Y ASISTENCIA POR COMUNA\")\n",
    "f.tight_layout()\n",
    "ax[0].set_xlim(5,100.0)\n",
    "for i in range(0,2):\n",
    "    if i != 0:\n",
    "        if i == 1:\n",
    "            ax[i].yaxis.set_visible(False)\n",
    "            ax[i].set_xlim(0,7)\n",
    "        else:\n",
    "            ax[i].yaxis.set_visible(False)\n",
    "            ax[i].set_xlim(0,200)\n",
    "\n",
    "            \n",
    "        \n",
    "    sns.barplot(df_filtrado_ploteable, y=\"COMUNA\", x=cols[i], ax=ax[i],width=1)"
   ]
  },
  {
   "cell_type": "code",
   "execution_count": null,
   "id": "d18f1d0d",
   "metadata": {},
   "outputs": [],
   "source": [
    "df_rendimiento = pd.read_csv('Dataframes/rendimiento_promedio_filtrado_2021.csv')\n",
    "df_psu = pd.read_csv(\"Dataframes/promedio_puntajes_pdt.csv\")\n",
    "\n",
    "gdf_comunas = gpd.read_file(\"Dataframes/COMUNA/COMUNAS_2020.shp\").to_crs(4326)[[\"geometry\", \"COMUNA\", \"REGION\"]]\n",
    "gdf_comunas = gdf_comunas[gdf_comunas[\"REGION\"] == \"Metropolitana de Santiago\"]\n",
    "gdf_comunas.COMUNA = gdf_comunas.COMUNA.map(lambda x:limpiar(x).upper())\n",
    "\n",
    "df_rendimiento.drop(columns=[\"COD_COM_RBD\", \"COD_DEPE2\"], inplace=True)\n",
    "df_rendimiento.rename(columns={\"NOM_COM_RBD\": \"COMUNA\"}, inplace=True)\n",
    "df_rendimiento.COMUNA = df_rendimiento.COMUNA.map(lambda x:limpiar(x).upper())\n",
    "df_rendimiento.head()"
   ]
  },
  {
   "cell_type": "code",
   "execution_count": null,
   "id": "f7e2ffc1",
   "metadata": {},
   "outputs": [],
   "source": [
    "df_psu = df_psu.groupby('COMUNA').mean().reset_index()\n",
    "df_psu = df_psu.drop('N_TRABAJAN', axis = 1)\n",
    "df_psu.head()"
   ]
  },
  {
   "cell_type": "code",
   "execution_count": null,
   "id": "73f3ddb7",
   "metadata": {},
   "outputs": [],
   "source": [
    "gdf_todo = df_rendimiento.merge(df_psu, on=\"COMUNA\")\n",
    "gdf_todo = gdf_todo[[\"COMUNA\", \"ASISTENCIA\", \"NEM\", \"RANKING\", \"LENGUAJE\", \"MATEMATICAS\", \"HISTORIA\", \"CIENCIAS\", \"INGRESOS\"]]\n",
    "gdf_todo.head()"
   ]
  },
  {
   "cell_type": "markdown",
   "id": "b33474c2",
   "metadata": {},
   "source": [
    "**Regresion lineal**"
   ]
  },
  {
   "cell_type": "code",
   "execution_count": 14,
   "id": "5e7e6626",
   "metadata": {},
   "outputs": [],
   "source": [
    "from sklearn.metrics import mean_squared_error, r2_score, explained_variance_score, mean_absolute_error\n",
    "from sklearn.model_selection import train_test_split\n",
    "from sklearn.preprocessing import PolynomialFeatures, StandardScaler, Normalizer\n",
    "from sklearn.linear_model import LinearRegression, Ridge, Lasso, RidgeCV, LassoCV"
   ]
  },
  {
   "cell_type": "markdown",
   "id": "381e70ed",
   "metadata": {},
   "source": [
    "Proposito: Predecir si existe una correlacion entre los promedios de rendimiento academico y el nivel de ingreso promedio por comuna. Es decir, ver si existe una correlacion del tipo ' A mejores resultados academicos, mejor condicion economica'"
   ]
  },
  {
   "cell_type": "code",
   "execution_count": 15,
   "id": "dcbf3b55",
   "metadata": {},
   "outputs": [
    {
     "ename": "NameError",
     "evalue": "name 'gdf_todo' is not defined",
     "output_type": "error",
     "traceback": [
      "\u001b[1;31m---------------------------------------------------------------------------\u001b[0m",
      "\u001b[1;31mNameError\u001b[0m                                 Traceback (most recent call last)",
      "Cell \u001b[1;32mIn [15], line 1\u001b[0m\n\u001b[1;32m----> 1\u001b[0m x \u001b[38;5;241m=\u001b[39m \u001b[43mgdf_todo\u001b[49m\u001b[38;5;241m.\u001b[39mdrop([\u001b[38;5;124m'\u001b[39m\u001b[38;5;124mCOMUNA\u001b[39m\u001b[38;5;124m'\u001b[39m, \u001b[38;5;124m'\u001b[39m\u001b[38;5;124mINGRESOS\u001b[39m\u001b[38;5;124m'\u001b[39m], axis \u001b[38;5;241m=\u001b[39m \u001b[38;5;241m1\u001b[39m)\u001b[38;5;241m.\u001b[39mvalues\n\u001b[0;32m      2\u001b[0m y \u001b[38;5;241m=\u001b[39m gdf_todo[\u001b[38;5;124m'\u001b[39m\u001b[38;5;124mINGRESOS\u001b[39m\u001b[38;5;124m'\u001b[39m]\n\u001b[0;32m      3\u001b[0m x_train, x_test, y_train, y_test \u001b[38;5;241m=\u001b[39m train_test_split(x,y, test_size \u001b[38;5;241m=\u001b[39m \u001b[38;5;241m0.3\u001b[39m, random_state \u001b[38;5;241m=\u001b[39m \u001b[38;5;241m0\u001b[39m)\n",
      "\u001b[1;31mNameError\u001b[0m: name 'gdf_todo' is not defined"
     ]
    }
   ],
   "source": [
    "x = gdf_todo.drop(['COMUNA', 'INGRESOS'], axis = 1).values\n",
    "y = gdf_todo['INGRESOS']\n",
    "x_train, x_test, y_train, y_test = train_test_split(x,y, test_size = 0.3, random_state = 0)"
   ]
  },
  {
   "cell_type": "code",
   "execution_count": null,
   "id": "ff610ca1",
   "metadata": {},
   "outputs": [],
   "source": [
    "#Estandarizacion de datos\n",
    "train_mean = x_train.mean()\n",
    "train_std = x_train.std()\n",
    "\n",
    "names = gdf_todo.columns.drop(['COMUNA','INGRESOS'])\n",
    "scaler = StandardScaler()\n",
    "scaled_train = scaler.fit_transform(x_train)\n",
    "x_test_standard = (x_test - train_mean) / train_std #scaler.fit_transform(x_test)\n",
    "x_train_standard = pd.DataFrame(scaled_train, columns=names)\n",
    "\n",
    "x_train_standard.head()"
   ]
  },
  {
   "cell_type": "code",
   "execution_count": null,
   "id": "0afe26be",
   "metadata": {},
   "outputs": [],
   "source": [
    "#Testear el machine learning\n",
    "\n",
    "ml = LinearRegression()\n",
    "ml.fit(x_train, y_train)\n",
    "\n",
    "#Predecir resultado\n",
    "y_pred = ml.predict(x_test)"
   ]
  },
  {
   "cell_type": "code",
   "execution_count": null,
   "id": "ef555c26",
   "metadata": {},
   "outputs": [],
   "source": [
    "def regression_results(y_true, y_pred, p):\n",
    "    explained_variance=explained_variance_score(y_true, y_pred)\n",
    "    mae=mean_absolute_error(y_true, y_pred) \n",
    "    mse=mean_squared_error(y_true, y_pred) \n",
    "    r2=r2_score(y_true, y_pred)\n",
    "\n",
    "    n = y_true.shape[0]\n",
    "    adjr2 = 1-(1-r2) * (n-1)/(n-p)\n",
    "\n",
    "    print('Explained_variance: ', round(explained_variance,4))    \n",
    "    print('r2: ', round(r2,4))\n",
    "    print('adjr2: ', round(adjr2,4))\n",
    "    print('MAE: ', round(mae,4))\n",
    "    print('MSE: ', round(mse,4))\n",
    "    print('RMSE: ', round(np.sqrt(mse),4))\n",
    "    \n",
    "#Metricas lieales.\n",
    "true = y_test.values\n",
    "pred = y_pred\n",
    "p = x_test.shape[1]\n",
    "regression_results(true, pred, p=p)"
   ]
  }
 ],
 "metadata": {
  "kernelspec": {
   "display_name": "Python 3 (ipykernel)",
   "language": "python",
   "name": "python3"
  },
  "language_info": {
   "codemirror_mode": {
    "name": "ipython",
    "version": 3
   },
   "file_extension": ".py",
   "mimetype": "text/x-python",
   "name": "python",
   "nbconvert_exporter": "python",
   "pygments_lexer": "ipython3",
   "version": "3.10.7"
  }
 },
 "nbformat": 4,
 "nbformat_minor": 5
}
